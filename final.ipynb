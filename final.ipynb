{
 "cells": [
  {
   "cell_type": "markdown",
   "id": "d9f84dd6-5bf4-4ed5-a7ad-071e450e5433",
   "metadata": {},
   "source": [
    "# Телекоммуникации"
   ]
  },
  {
   "cell_type": "markdown",
   "id": "479ff783-a678-44ec-ba3e-5a378ed48ce1",
   "metadata": {},
   "source": [
    "### Классификация абонентов"
   ]
  },
  {
   "cell_type": "markdown",
   "id": "4c30b596-3b74-4aeb-87e8-7253439bc7eb",
   "metadata": {},
   "source": [
    "<div class=\"alert alert-block alert-info\">\n",
    "\n",
    "Провайдеру интернет и телефонии требуется уменьшить отток клиентов. Для бонусной политики требуется предсказать риски ухода абонентов.\\\n",
    "Команда оператора предоставила данные по заключённым договорам, персональные данные и информацию о предоставляемых услугах.\\\n",
    "На основании этих данных требуется предсказать уход клиента.\n",
    "\n",
    "В работе я проверила и подготовила данные, провела их исследование, обучила модели, оценила качество предсказаний и дала рекомендации бизнесу."
   ]
  },
  {
   "cell_type": "code",
   "execution_count": 1,
   "id": "98399fc2-958a-424d-9a8d-68d90a5b863b",
   "metadata": {},
   "outputs": [],
   "source": [
    "try:\n",
    "    from lightgbm import LGBMClassifier\n",
    "except:\n",
    "    !pip install lightgbm -q\n",
    "    from lightgbm import LGBMClassifier\n",
    "try:\n",
    "    import matplotlib.pyplot as plt\n",
    "except:\n",
    "    !pip install --upgrade numpy==1.22 -q\n",
    "    import matplotlib.pyplot as plt\n",
    "import numpy as np\n",
    "import os\n",
    "import pandas as pd\n",
    "try:\n",
    "    import phik\n",
    "except:\n",
    "    !pip install phik -q\n",
    "    import phik\n",
    "from scipy.stats import uniform\n",
    "import seaborn as sb\n",
    "try:\n",
    "    import shap\n",
    "except:\n",
    "    !pip install shap -q\n",
    "    import shap\n",
    "from sklearn.compose import ColumnTransformer\n",
    "from sklearn.dummy import DummyClassifier\n",
    "from sklearn.ensemble import GradientBoostingClassifier\n",
    "from sklearn.metrics import roc_auc_score, accuracy_score, recall_score, confusion_matrix\n",
    "from sklearn.model_selection import train_test_split,RandomizedSearchCV\n",
    "from sklearn.pipeline import Pipeline, make_pipeline\n",
    "from sklearn.preprocessing import OrdinalEncoder\n",
    "import winsound"
   ]
  },
  {
   "cell_type": "code",
   "execution_count": 2,
   "id": "1d976416-a3bb-4df4-b3fa-d3479b49b6d5",
   "metadata": {},
   "outputs": [],
   "source": [
    "RAND=50824"
   ]
  },
  {
   "cell_type": "markdown",
   "id": "3e1451b0-92da-4191-9b59-4fde55efd0a6",
   "metadata": {},
   "source": [
    "## Загрузка и предобработка данных"
   ]
  },
  {
   "cell_type": "code",
   "execution_count": 3,
   "id": "2d02e860-c65c-4233-b8bb-eaf9dfee065f",
   "metadata": {},
   "outputs": [],
   "source": [
    "def load(file):\n",
    "    path='/datasets/'+file\n",
    "    if not os.path.exists(path):\n",
    "        path='..\\\\df\\\\'+file\n",
    "    if os.path.exists(path):\n",
    "        df=pd.read_csv(path)\n",
    "        print('\\n',file)\n",
    "        display(df.head())\n",
    "        df.info()\n",
    "        print('Число дубликатов: ', df.duplicated().sum())\n",
    "        print('Число повторов id: ', df['customerID'].duplicated().sum())\n",
    "        return df  \n",
    "    else:      \n",
    "        print('Файл не найден')"
   ]
  },
  {
   "cell_type": "code",
   "execution_count": 4,
   "id": "9a2d6121-0657-4d64-a8fc-2f385cf4d5e8",
   "metadata": {},
   "outputs": [],
   "source": [
    "def unique(df):\n",
    "    for col in df.select_dtypes(include='object').columns:\n",
    "        print(col)\n",
    "        display(df[col].unique())"
   ]
  },
  {
   "cell_type": "code",
   "execution_count": 5,
   "id": "2cb1ab67-b7ff-4fa2-8117-bd61156171bc",
   "metadata": {
    "jupyter": {
     "source_hidden": true
    }
   },
   "outputs": [],
   "source": [
    "def sound():\n",
    "    winsound.Beep(550,1000)"
   ]
  },
  {
   "cell_type": "code",
   "execution_count": 6,
   "id": "02f28fc1-a763-4942-8a40-08b109470ffe",
   "metadata": {
    "scrolled": true
   },
   "outputs": [
    {
     "name": "stdout",
     "output_type": "stream",
     "text": [
      "\n",
      " contract_new.csv\n"
     ]
    },
    {
     "data": {
      "text/html": [
       "<div>\n",
       "<style scoped>\n",
       "    .dataframe tbody tr th:only-of-type {\n",
       "        vertical-align: middle;\n",
       "    }\n",
       "\n",
       "    .dataframe tbody tr th {\n",
       "        vertical-align: top;\n",
       "    }\n",
       "\n",
       "    .dataframe thead th {\n",
       "        text-align: right;\n",
       "    }\n",
       "</style>\n",
       "<table border=\"1\" class=\"dataframe\">\n",
       "  <thead>\n",
       "    <tr style=\"text-align: right;\">\n",
       "      <th></th>\n",
       "      <th>customerID</th>\n",
       "      <th>BeginDate</th>\n",
       "      <th>EndDate</th>\n",
       "      <th>Type</th>\n",
       "      <th>PaperlessBilling</th>\n",
       "      <th>PaymentMethod</th>\n",
       "      <th>MonthlyCharges</th>\n",
       "      <th>TotalCharges</th>\n",
       "    </tr>\n",
       "  </thead>\n",
       "  <tbody>\n",
       "    <tr>\n",
       "      <th>0</th>\n",
       "      <td>7590-VHVEG</td>\n",
       "      <td>2020-01-01</td>\n",
       "      <td>No</td>\n",
       "      <td>Month-to-month</td>\n",
       "      <td>Yes</td>\n",
       "      <td>Electronic check</td>\n",
       "      <td>29.85</td>\n",
       "      <td>31.04</td>\n",
       "    </tr>\n",
       "    <tr>\n",
       "      <th>1</th>\n",
       "      <td>5575-GNVDE</td>\n",
       "      <td>2017-04-01</td>\n",
       "      <td>No</td>\n",
       "      <td>One year</td>\n",
       "      <td>No</td>\n",
       "      <td>Mailed check</td>\n",
       "      <td>56.95</td>\n",
       "      <td>2071.84</td>\n",
       "    </tr>\n",
       "    <tr>\n",
       "      <th>2</th>\n",
       "      <td>3668-QPYBK</td>\n",
       "      <td>2019-10-01</td>\n",
       "      <td>No</td>\n",
       "      <td>Month-to-month</td>\n",
       "      <td>Yes</td>\n",
       "      <td>Mailed check</td>\n",
       "      <td>53.85</td>\n",
       "      <td>226.17</td>\n",
       "    </tr>\n",
       "    <tr>\n",
       "      <th>3</th>\n",
       "      <td>7795-CFOCW</td>\n",
       "      <td>2016-05-01</td>\n",
       "      <td>No</td>\n",
       "      <td>One year</td>\n",
       "      <td>No</td>\n",
       "      <td>Bank transfer (automatic)</td>\n",
       "      <td>42.30</td>\n",
       "      <td>1960.6</td>\n",
       "    </tr>\n",
       "    <tr>\n",
       "      <th>4</th>\n",
       "      <td>9237-HQITU</td>\n",
       "      <td>2019-09-01</td>\n",
       "      <td>No</td>\n",
       "      <td>Month-to-month</td>\n",
       "      <td>Yes</td>\n",
       "      <td>Electronic check</td>\n",
       "      <td>70.70</td>\n",
       "      <td>353.5</td>\n",
       "    </tr>\n",
       "  </tbody>\n",
       "</table>\n",
       "</div>"
      ],
      "text/plain": [
       "   customerID   BeginDate EndDate            Type PaperlessBilling  \\\n",
       "0  7590-VHVEG  2020-01-01      No  Month-to-month              Yes   \n",
       "1  5575-GNVDE  2017-04-01      No        One year               No   \n",
       "2  3668-QPYBK  2019-10-01      No  Month-to-month              Yes   \n",
       "3  7795-CFOCW  2016-05-01      No        One year               No   \n",
       "4  9237-HQITU  2019-09-01      No  Month-to-month              Yes   \n",
       "\n",
       "               PaymentMethod  MonthlyCharges TotalCharges  \n",
       "0           Electronic check           29.85        31.04  \n",
       "1               Mailed check           56.95      2071.84  \n",
       "2               Mailed check           53.85       226.17  \n",
       "3  Bank transfer (automatic)           42.30       1960.6  \n",
       "4           Electronic check           70.70        353.5  "
      ]
     },
     "metadata": {},
     "output_type": "display_data"
    },
    {
     "name": "stdout",
     "output_type": "stream",
     "text": [
      "<class 'pandas.core.frame.DataFrame'>\n",
      "RangeIndex: 7043 entries, 0 to 7042\n",
      "Data columns (total 8 columns):\n",
      " #   Column            Non-Null Count  Dtype  \n",
      "---  ------            --------------  -----  \n",
      " 0   customerID        7043 non-null   object \n",
      " 1   BeginDate         7043 non-null   object \n",
      " 2   EndDate           7043 non-null   object \n",
      " 3   Type              7043 non-null   object \n",
      " 4   PaperlessBilling  7043 non-null   object \n",
      " 5   PaymentMethod     7043 non-null   object \n",
      " 6   MonthlyCharges    7043 non-null   float64\n",
      " 7   TotalCharges      7043 non-null   object \n",
      "dtypes: float64(1), object(7)\n",
      "memory usage: 440.3+ KB\n",
      "Число дубликатов:  0\n",
      "Число повторов id:  0\n",
      "\n",
      " personal_new.csv\n"
     ]
    },
    {
     "data": {
      "text/html": [
       "<div>\n",
       "<style scoped>\n",
       "    .dataframe tbody tr th:only-of-type {\n",
       "        vertical-align: middle;\n",
       "    }\n",
       "\n",
       "    .dataframe tbody tr th {\n",
       "        vertical-align: top;\n",
       "    }\n",
       "\n",
       "    .dataframe thead th {\n",
       "        text-align: right;\n",
       "    }\n",
       "</style>\n",
       "<table border=\"1\" class=\"dataframe\">\n",
       "  <thead>\n",
       "    <tr style=\"text-align: right;\">\n",
       "      <th></th>\n",
       "      <th>customerID</th>\n",
       "      <th>gender</th>\n",
       "      <th>SeniorCitizen</th>\n",
       "      <th>Partner</th>\n",
       "      <th>Dependents</th>\n",
       "    </tr>\n",
       "  </thead>\n",
       "  <tbody>\n",
       "    <tr>\n",
       "      <th>0</th>\n",
       "      <td>7590-VHVEG</td>\n",
       "      <td>Female</td>\n",
       "      <td>0</td>\n",
       "      <td>Yes</td>\n",
       "      <td>No</td>\n",
       "    </tr>\n",
       "    <tr>\n",
       "      <th>1</th>\n",
       "      <td>5575-GNVDE</td>\n",
       "      <td>Male</td>\n",
       "      <td>0</td>\n",
       "      <td>No</td>\n",
       "      <td>No</td>\n",
       "    </tr>\n",
       "    <tr>\n",
       "      <th>2</th>\n",
       "      <td>3668-QPYBK</td>\n",
       "      <td>Male</td>\n",
       "      <td>0</td>\n",
       "      <td>No</td>\n",
       "      <td>No</td>\n",
       "    </tr>\n",
       "    <tr>\n",
       "      <th>3</th>\n",
       "      <td>7795-CFOCW</td>\n",
       "      <td>Male</td>\n",
       "      <td>0</td>\n",
       "      <td>No</td>\n",
       "      <td>No</td>\n",
       "    </tr>\n",
       "    <tr>\n",
       "      <th>4</th>\n",
       "      <td>9237-HQITU</td>\n",
       "      <td>Female</td>\n",
       "      <td>0</td>\n",
       "      <td>No</td>\n",
       "      <td>No</td>\n",
       "    </tr>\n",
       "  </tbody>\n",
       "</table>\n",
       "</div>"
      ],
      "text/plain": [
       "   customerID  gender  SeniorCitizen Partner Dependents\n",
       "0  7590-VHVEG  Female              0     Yes         No\n",
       "1  5575-GNVDE    Male              0      No         No\n",
       "2  3668-QPYBK    Male              0      No         No\n",
       "3  7795-CFOCW    Male              0      No         No\n",
       "4  9237-HQITU  Female              0      No         No"
      ]
     },
     "metadata": {},
     "output_type": "display_data"
    },
    {
     "name": "stdout",
     "output_type": "stream",
     "text": [
      "<class 'pandas.core.frame.DataFrame'>\n",
      "RangeIndex: 7043 entries, 0 to 7042\n",
      "Data columns (total 5 columns):\n",
      " #   Column         Non-Null Count  Dtype \n",
      "---  ------         --------------  ----- \n",
      " 0   customerID     7043 non-null   object\n",
      " 1   gender         7043 non-null   object\n",
      " 2   SeniorCitizen  7043 non-null   int64 \n",
      " 3   Partner        7043 non-null   object\n",
      " 4   Dependents     7043 non-null   object\n",
      "dtypes: int64(1), object(4)\n",
      "memory usage: 275.2+ KB\n",
      "Число дубликатов:  0\n",
      "Число повторов id:  0\n",
      "\n",
      " internet_new.csv\n"
     ]
    },
    {
     "data": {
      "text/html": [
       "<div>\n",
       "<style scoped>\n",
       "    .dataframe tbody tr th:only-of-type {\n",
       "        vertical-align: middle;\n",
       "    }\n",
       "\n",
       "    .dataframe tbody tr th {\n",
       "        vertical-align: top;\n",
       "    }\n",
       "\n",
       "    .dataframe thead th {\n",
       "        text-align: right;\n",
       "    }\n",
       "</style>\n",
       "<table border=\"1\" class=\"dataframe\">\n",
       "  <thead>\n",
       "    <tr style=\"text-align: right;\">\n",
       "      <th></th>\n",
       "      <th>customerID</th>\n",
       "      <th>InternetService</th>\n",
       "      <th>OnlineSecurity</th>\n",
       "      <th>OnlineBackup</th>\n",
       "      <th>DeviceProtection</th>\n",
       "      <th>TechSupport</th>\n",
       "      <th>StreamingTV</th>\n",
       "      <th>StreamingMovies</th>\n",
       "    </tr>\n",
       "  </thead>\n",
       "  <tbody>\n",
       "    <tr>\n",
       "      <th>0</th>\n",
       "      <td>7590-VHVEG</td>\n",
       "      <td>DSL</td>\n",
       "      <td>No</td>\n",
       "      <td>Yes</td>\n",
       "      <td>No</td>\n",
       "      <td>No</td>\n",
       "      <td>No</td>\n",
       "      <td>No</td>\n",
       "    </tr>\n",
       "    <tr>\n",
       "      <th>1</th>\n",
       "      <td>5575-GNVDE</td>\n",
       "      <td>DSL</td>\n",
       "      <td>Yes</td>\n",
       "      <td>No</td>\n",
       "      <td>Yes</td>\n",
       "      <td>No</td>\n",
       "      <td>No</td>\n",
       "      <td>No</td>\n",
       "    </tr>\n",
       "    <tr>\n",
       "      <th>2</th>\n",
       "      <td>3668-QPYBK</td>\n",
       "      <td>DSL</td>\n",
       "      <td>Yes</td>\n",
       "      <td>Yes</td>\n",
       "      <td>No</td>\n",
       "      <td>No</td>\n",
       "      <td>No</td>\n",
       "      <td>No</td>\n",
       "    </tr>\n",
       "    <tr>\n",
       "      <th>3</th>\n",
       "      <td>7795-CFOCW</td>\n",
       "      <td>DSL</td>\n",
       "      <td>Yes</td>\n",
       "      <td>No</td>\n",
       "      <td>Yes</td>\n",
       "      <td>Yes</td>\n",
       "      <td>No</td>\n",
       "      <td>No</td>\n",
       "    </tr>\n",
       "    <tr>\n",
       "      <th>4</th>\n",
       "      <td>9237-HQITU</td>\n",
       "      <td>Fiber optic</td>\n",
       "      <td>No</td>\n",
       "      <td>No</td>\n",
       "      <td>No</td>\n",
       "      <td>No</td>\n",
       "      <td>No</td>\n",
       "      <td>No</td>\n",
       "    </tr>\n",
       "  </tbody>\n",
       "</table>\n",
       "</div>"
      ],
      "text/plain": [
       "   customerID InternetService OnlineSecurity OnlineBackup DeviceProtection  \\\n",
       "0  7590-VHVEG             DSL             No          Yes               No   \n",
       "1  5575-GNVDE             DSL            Yes           No              Yes   \n",
       "2  3668-QPYBK             DSL            Yes          Yes               No   \n",
       "3  7795-CFOCW             DSL            Yes           No              Yes   \n",
       "4  9237-HQITU     Fiber optic             No           No               No   \n",
       "\n",
       "  TechSupport StreamingTV StreamingMovies  \n",
       "0          No          No              No  \n",
       "1          No          No              No  \n",
       "2          No          No              No  \n",
       "3         Yes          No              No  \n",
       "4          No          No              No  "
      ]
     },
     "metadata": {},
     "output_type": "display_data"
    },
    {
     "name": "stdout",
     "output_type": "stream",
     "text": [
      "<class 'pandas.core.frame.DataFrame'>\n",
      "RangeIndex: 5517 entries, 0 to 5516\n",
      "Data columns (total 8 columns):\n",
      " #   Column            Non-Null Count  Dtype \n",
      "---  ------            --------------  ----- \n",
      " 0   customerID        5517 non-null   object\n",
      " 1   InternetService   5517 non-null   object\n",
      " 2   OnlineSecurity    5517 non-null   object\n",
      " 3   OnlineBackup      5517 non-null   object\n",
      " 4   DeviceProtection  5517 non-null   object\n",
      " 5   TechSupport       5517 non-null   object\n",
      " 6   StreamingTV       5517 non-null   object\n",
      " 7   StreamingMovies   5517 non-null   object\n",
      "dtypes: object(8)\n",
      "memory usage: 344.9+ KB\n",
      "Число дубликатов:  0\n",
      "Число повторов id:  0\n",
      "\n",
      " phone_new.csv\n"
     ]
    },
    {
     "data": {
      "text/html": [
       "<div>\n",
       "<style scoped>\n",
       "    .dataframe tbody tr th:only-of-type {\n",
       "        vertical-align: middle;\n",
       "    }\n",
       "\n",
       "    .dataframe tbody tr th {\n",
       "        vertical-align: top;\n",
       "    }\n",
       "\n",
       "    .dataframe thead th {\n",
       "        text-align: right;\n",
       "    }\n",
       "</style>\n",
       "<table border=\"1\" class=\"dataframe\">\n",
       "  <thead>\n",
       "    <tr style=\"text-align: right;\">\n",
       "      <th></th>\n",
       "      <th>customerID</th>\n",
       "      <th>MultipleLines</th>\n",
       "    </tr>\n",
       "  </thead>\n",
       "  <tbody>\n",
       "    <tr>\n",
       "      <th>0</th>\n",
       "      <td>5575-GNVDE</td>\n",
       "      <td>No</td>\n",
       "    </tr>\n",
       "    <tr>\n",
       "      <th>1</th>\n",
       "      <td>3668-QPYBK</td>\n",
       "      <td>No</td>\n",
       "    </tr>\n",
       "    <tr>\n",
       "      <th>2</th>\n",
       "      <td>9237-HQITU</td>\n",
       "      <td>No</td>\n",
       "    </tr>\n",
       "    <tr>\n",
       "      <th>3</th>\n",
       "      <td>9305-CDSKC</td>\n",
       "      <td>Yes</td>\n",
       "    </tr>\n",
       "    <tr>\n",
       "      <th>4</th>\n",
       "      <td>1452-KIOVK</td>\n",
       "      <td>Yes</td>\n",
       "    </tr>\n",
       "  </tbody>\n",
       "</table>\n",
       "</div>"
      ],
      "text/plain": [
       "   customerID MultipleLines\n",
       "0  5575-GNVDE            No\n",
       "1  3668-QPYBK            No\n",
       "2  9237-HQITU            No\n",
       "3  9305-CDSKC           Yes\n",
       "4  1452-KIOVK           Yes"
      ]
     },
     "metadata": {},
     "output_type": "display_data"
    },
    {
     "name": "stdout",
     "output_type": "stream",
     "text": [
      "<class 'pandas.core.frame.DataFrame'>\n",
      "RangeIndex: 6361 entries, 0 to 6360\n",
      "Data columns (total 2 columns):\n",
      " #   Column         Non-Null Count  Dtype \n",
      "---  ------         --------------  ----- \n",
      " 0   customerID     6361 non-null   object\n",
      " 1   MultipleLines  6361 non-null   object\n",
      "dtypes: object(2)\n",
      "memory usage: 99.5+ KB\n",
      "Число дубликатов:  0\n",
      "Число повторов id:  0\n"
     ]
    }
   ],
   "source": [
    "contract=load('contract_new.csv')\n",
    "person=load('personal_new.csv')\n",
    "internet=load('internet_new.csv')\n",
    "phone=load('phone_new.csv')"
   ]
  },
  {
   "cell_type": "markdown",
   "id": "407c8b8a-1ae9-48ca-a635-312772db72f2",
   "metadata": {},
   "source": [
    "Дубликаты и пропуски в базах отсутствуют. Повторов id в базах нет.\\\n",
    "Количество контрактов равно количеству записей в персональных данных. Записей в таблицах услуг интернет и телефонии меньше. Предоставленных услуг телефонии больше.\\\n",
    "Проверю насколько соответствуют id в разных базах, приведу названия к стилю нижнего регистра с подчёркиваниями.\\\n",
    "Проведу парсинг дат, проверю на неявные дубликаты."
   ]
  },
  {
   "cell_type": "code",
   "execution_count": 7,
   "id": "3840c75a-3aac-4a8a-bfc5-6b3c2597bdb3",
   "metadata": {},
   "outputs": [
    {
     "data": {
      "text/html": [
       "<div>\n",
       "<style scoped>\n",
       "    .dataframe tbody tr th:only-of-type {\n",
       "        vertical-align: middle;\n",
       "    }\n",
       "\n",
       "    .dataframe tbody tr th {\n",
       "        vertical-align: top;\n",
       "    }\n",
       "\n",
       "    .dataframe thead th {\n",
       "        text-align: right;\n",
       "    }\n",
       "</style>\n",
       "<table border=\"1\" class=\"dataframe\">\n",
       "  <thead>\n",
       "    <tr style=\"text-align: right;\">\n",
       "      <th></th>\n",
       "      <th>id</th>\n",
       "      <th>begin</th>\n",
       "      <th>end</th>\n",
       "      <th>payed_years</th>\n",
       "      <th>e_billing</th>\n",
       "      <th>payment_method</th>\n",
       "      <th>month_charges</th>\n",
       "      <th>total_charges</th>\n",
       "    </tr>\n",
       "  </thead>\n",
       "  <tbody>\n",
       "    <tr>\n",
       "      <th>0</th>\n",
       "      <td>7590-VHVEG</td>\n",
       "      <td>2020-01-01</td>\n",
       "      <td>No</td>\n",
       "      <td>Month-to-month</td>\n",
       "      <td>Yes</td>\n",
       "      <td>Electronic check</td>\n",
       "      <td>29.85</td>\n",
       "      <td>31.04</td>\n",
       "    </tr>\n",
       "  </tbody>\n",
       "</table>\n",
       "</div>"
      ],
      "text/plain": [
       "           id       begin end     payed_years e_billing    payment_method  \\\n",
       "0  7590-VHVEG  2020-01-01  No  Month-to-month       Yes  Electronic check   \n",
       "\n",
       "   month_charges total_charges  \n",
       "0          29.85         31.04  "
      ]
     },
     "execution_count": 7,
     "metadata": {},
     "output_type": "execute_result"
    }
   ],
   "source": [
    "contract.columns=['id','begin','end','payed_years','e_billing','payment_method','month_charges','total_charges']\n",
    "contract.head(1)"
   ]
  },
  {
   "cell_type": "code",
   "execution_count": 8,
   "id": "b0d7d679-0b8b-43e7-a17e-89163ecd75bd",
   "metadata": {},
   "outputs": [
    {
     "data": {
      "text/html": [
       "<div>\n",
       "<style scoped>\n",
       "    .dataframe tbody tr th:only-of-type {\n",
       "        vertical-align: middle;\n",
       "    }\n",
       "\n",
       "    .dataframe tbody tr th {\n",
       "        vertical-align: top;\n",
       "    }\n",
       "\n",
       "    .dataframe thead th {\n",
       "        text-align: right;\n",
       "    }\n",
       "</style>\n",
       "<table border=\"1\" class=\"dataframe\">\n",
       "  <thead>\n",
       "    <tr style=\"text-align: right;\">\n",
       "      <th></th>\n",
       "      <th>id</th>\n",
       "      <th>begin</th>\n",
       "      <th>end</th>\n",
       "      <th>payed_years</th>\n",
       "      <th>e_billing</th>\n",
       "      <th>payment_method</th>\n",
       "      <th>month_charges</th>\n",
       "      <th>total_charges</th>\n",
       "    </tr>\n",
       "  </thead>\n",
       "  <tbody>\n",
       "    <tr>\n",
       "      <th>1434</th>\n",
       "      <td>1571-SAVHK</td>\n",
       "      <td>2018-10-01</td>\n",
       "      <td>No</td>\n",
       "      <td>Month-to-month</td>\n",
       "      <td>Yes</td>\n",
       "      <td>Mailed check</td>\n",
       "      <td>99.95</td>\n",
       "      <td>1631.18</td>\n",
       "    </tr>\n",
       "    <tr>\n",
       "      <th>2490</th>\n",
       "      <td>7641-TQFHN</td>\n",
       "      <td>2016-11-01</td>\n",
       "      <td>No</td>\n",
       "      <td>Two year</td>\n",
       "      <td>No</td>\n",
       "      <td>Mailed check</td>\n",
       "      <td>100.55</td>\n",
       "      <td>4313.6</td>\n",
       "    </tr>\n",
       "    <tr>\n",
       "      <th>3520</th>\n",
       "      <td>6036-TTFYU</td>\n",
       "      <td>2018-10-01</td>\n",
       "      <td>No</td>\n",
       "      <td>Month-to-month</td>\n",
       "      <td>No</td>\n",
       "      <td>Mailed check</td>\n",
       "      <td>19.60</td>\n",
       "      <td>313.6</td>\n",
       "    </tr>\n",
       "    <tr>\n",
       "      <th>3818</th>\n",
       "      <td>8819-ZBYNA</td>\n",
       "      <td>2015-04-01</td>\n",
       "      <td>2018-12-01</td>\n",
       "      <td>Two year</td>\n",
       "      <td>Yes</td>\n",
       "      <td>Credit card (automatic)</td>\n",
       "      <td>109.10</td>\n",
       "      <td>4800.4</td>\n",
       "    </tr>\n",
       "    <tr>\n",
       "      <th>3753</th>\n",
       "      <td>1816-FLZDK</td>\n",
       "      <td>2020-01-01</td>\n",
       "      <td>No</td>\n",
       "      <td>Month-to-month</td>\n",
       "      <td>No</td>\n",
       "      <td>Mailed check</td>\n",
       "      <td>29.15</td>\n",
       "      <td>29.15</td>\n",
       "    </tr>\n",
       "  </tbody>\n",
       "</table>\n",
       "</div>"
      ],
      "text/plain": [
       "              id      begin         end     payed_years e_billing  \\\n",
       "1434  1571-SAVHK 2018-10-01          No  Month-to-month       Yes   \n",
       "2490  7641-TQFHN 2016-11-01          No        Two year        No   \n",
       "3520  6036-TTFYU 2018-10-01          No  Month-to-month        No   \n",
       "3818  8819-ZBYNA 2015-04-01  2018-12-01        Two year       Yes   \n",
       "3753  1816-FLZDK 2020-01-01          No  Month-to-month        No   \n",
       "\n",
       "               payment_method  month_charges total_charges  \n",
       "1434             Mailed check          99.95       1631.18  \n",
       "2490             Mailed check         100.55        4313.6  \n",
       "3520             Mailed check          19.60         313.6  \n",
       "3818  Credit card (automatic)         109.10        4800.4  \n",
       "3753             Mailed check          29.15         29.15  "
      ]
     },
     "execution_count": 8,
     "metadata": {},
     "output_type": "execute_result"
    }
   ],
   "source": [
    "contract['begin']=pd.to_datetime(contract['begin'])\n",
    "contract.sample(5)"
   ]
  },
  {
   "cell_type": "code",
   "execution_count": 9,
   "id": "735e6bab-275b-417f-a4c7-0e2dc4234440",
   "metadata": {},
   "outputs": [
    {
     "data": {
      "text/plain": [
       "min    2013-10-01 00:00:00\n",
       "max    2020-02-01 00:00:00\n",
       "Name: begin, dtype: object"
      ]
     },
     "execution_count": 9,
     "metadata": {},
     "output_type": "execute_result"
    }
   ],
   "source": [
    "contract.begin.describe(datetime_is_numeric=True)[['min','max']]"
   ]
  },
  {
   "cell_type": "markdown",
   "id": "f4144849-0f5d-4a47-9c10-2480cfab4295",
   "metadata": {},
   "source": [
    "Договоры заключалсь с октября 2013 по февраль 2020."
   ]
  },
  {
   "cell_type": "code",
   "execution_count": 10,
   "id": "64219459-b770-469c-89ef-7e4cd2086825",
   "metadata": {},
   "outputs": [
    {
     "data": {
      "text/plain": [
       "array([1], dtype=int64)"
      ]
     },
     "execution_count": 10,
     "metadata": {},
     "output_type": "execute_result"
    }
   ],
   "source": [
    "contract.begin.apply(lambda x:x.date().day).unique()"
   ]
  },
  {
   "cell_type": "code",
   "execution_count": 11,
   "id": "cbd8ee38-112d-4d55-a332-26dfcdff6655",
   "metadata": {
    "scrolled": true
   },
   "outputs": [
    {
     "data": {
      "text/plain": [
       "['No',\n",
       " '2020-01-01',\n",
       " '2019-12-01',\n",
       " '2019-11-01',\n",
       " '2019-10-01',\n",
       " '2019-09-01',\n",
       " '2019-08-01',\n",
       " '2019-07-01',\n",
       " '2019-06-01',\n",
       " '2019-05-01',\n",
       " '2019-04-01',\n",
       " '2019-03-01',\n",
       " '2019-02-01',\n",
       " '2019-01-01',\n",
       " '2018-12-01',\n",
       " '2018-11-01',\n",
       " '2018-10-01',\n",
       " '2018-09-01',\n",
       " '2018-08-01',\n",
       " '2018-07-01',\n",
       " '2018-06-01',\n",
       " '2018-05-01',\n",
       " '2018-04-01',\n",
       " '2018-03-01',\n",
       " '2018-02-01',\n",
       " '2018-01-01',\n",
       " '2017-12-01',\n",
       " '2017-11-01',\n",
       " '2017-10-01',\n",
       " '2017-09-01',\n",
       " '2017-08-01',\n",
       " '2017-07-01',\n",
       " '2017-06-01',\n",
       " '2017-05-01',\n",
       " '2017-04-01',\n",
       " '2017-03-01',\n",
       " '2017-02-01',\n",
       " '2017-01-01',\n",
       " '2016-12-01',\n",
       " '2016-11-01',\n",
       " '2016-10-01',\n",
       " '2016-09-01',\n",
       " '2016-08-01',\n",
       " '2016-07-01',\n",
       " '2016-06-01',\n",
       " '2016-05-01',\n",
       " '2016-04-01',\n",
       " '2016-03-01',\n",
       " '2016-02-01',\n",
       " '2016-01-01',\n",
       " '2015-12-01',\n",
       " '2015-11-01',\n",
       " '2015-10-01',\n",
       " '2015-09-01',\n",
       " '2015-08-01',\n",
       " '2015-07-01',\n",
       " '2015-06-01',\n",
       " '2015-05-01',\n",
       " '2015-04-01',\n",
       " '2015-03-01',\n",
       " '2015-02-01',\n",
       " '2015-01-01',\n",
       " '2014-12-01',\n",
       " '2014-11-01',\n",
       " '2014-10-01',\n",
       " '2014-09-01',\n",
       " '2014-06-01']"
      ]
     },
     "execution_count": 11,
     "metadata": {},
     "output_type": "execute_result"
    }
   ],
   "source": [
    "sorted(contract.end.unique(),reverse=True)"
   ]
  },
  {
   "cell_type": "markdown",
   "id": "0fd0d33a-aa18-4e7f-86d8-6696381ef237",
   "metadata": {},
   "source": [
    "Даты округлены до месяца."
   ]
  },
  {
   "cell_type": "code",
   "execution_count": 12,
   "id": "5a13a85b-d1f0-416a-b762-3c2084228c20",
   "metadata": {
    "scrolled": true
   },
   "outputs": [
    {
     "data": {
      "text/plain": [
       "No            0.843675\n",
       "2020-01-01    0.005537\n",
       "2019-12-01    0.005395\n",
       "2018-11-01    0.004969\n",
       "2019-09-01    0.004544\n",
       "                ...   \n",
       "2014-12-01    0.000284\n",
       "2014-09-01    0.000284\n",
       "2014-11-01    0.000142\n",
       "2014-10-01    0.000142\n",
       "2014-06-01    0.000142\n",
       "Name: end, Length: 67, dtype: float64"
      ]
     },
     "execution_count": 12,
     "metadata": {},
     "output_type": "execute_result"
    }
   ],
   "source": [
    "contract.end.value_counts(normalize=True)"
   ]
  },
  {
   "cell_type": "markdown",
   "id": "0a584971-894f-4172-8e32-30cb481ed5cc",
   "metadata": {},
   "source": [
    "<div class=\"alert alert-block alert-info\">\n",
    "Все даты окончания договоров - до даты выгрузки. Есть либо законченные контракты, либо длящиеся. В данном столбце нам важен факт окончания отношений. Выведем отсюда целевой признак: разорвал договор или нет. Заменю данные в этом столбце на бинарные.\n",
    "    \n",
    "Замечу, что присутствует дисбаланс классов: 84% продолжают оставаться клинтами компании.\\\n",
    "Данные из окончания договора и начала сведу в один признак: количества дней обслуживания."
   ]
  },
  {
   "cell_type": "code",
   "execution_count": 13,
   "id": "e52b746e-1338-4a05-816b-bad83294b9ff",
   "metadata": {},
   "outputs": [],
   "source": [
    "contract['finish']=contract.end!='No'\n",
    "contract['end']=contract['end'].apply(lambda x:'2020-02-01' if x=='No' else x)"
   ]
  },
  {
   "cell_type": "code",
   "execution_count": 14,
   "id": "33d3a7f3-436b-48f6-ac44-d27fb7759803",
   "metadata": {},
   "outputs": [],
   "source": [
    "contract['days']=((pd.to_datetime(contract.end)-contract.begin)/np.timedelta64(1,'D')).astype('int')"
   ]
  },
  {
   "cell_type": "code",
   "execution_count": 15,
   "id": "bc8c22f1-e0b3-4994-ac2e-869d2f292f35",
   "metadata": {},
   "outputs": [
    {
     "data": {
      "text/html": [
       "<div>\n",
       "<style scoped>\n",
       "    .dataframe tbody tr th:only-of-type {\n",
       "        vertical-align: middle;\n",
       "    }\n",
       "\n",
       "    .dataframe tbody tr th {\n",
       "        vertical-align: top;\n",
       "    }\n",
       "\n",
       "    .dataframe thead th {\n",
       "        text-align: right;\n",
       "    }\n",
       "</style>\n",
       "<table border=\"1\" class=\"dataframe\">\n",
       "  <thead>\n",
       "    <tr style=\"text-align: right;\">\n",
       "      <th></th>\n",
       "      <th>id</th>\n",
       "      <th>begin</th>\n",
       "      <th>end</th>\n",
       "      <th>payed_years</th>\n",
       "      <th>e_billing</th>\n",
       "      <th>payment_method</th>\n",
       "      <th>month_charges</th>\n",
       "      <th>total_charges</th>\n",
       "      <th>finish</th>\n",
       "      <th>days</th>\n",
       "    </tr>\n",
       "  </thead>\n",
       "  <tbody>\n",
       "    <tr>\n",
       "      <th>0</th>\n",
       "      <td>7590-VHVEG</td>\n",
       "      <td>2020-01-01</td>\n",
       "      <td>2020-02-01</td>\n",
       "      <td>Month-to-month</td>\n",
       "      <td>Yes</td>\n",
       "      <td>Electronic check</td>\n",
       "      <td>29.85</td>\n",
       "      <td>31.04</td>\n",
       "      <td>False</td>\n",
       "      <td>31</td>\n",
       "    </tr>\n",
       "    <tr>\n",
       "      <th>1</th>\n",
       "      <td>5575-GNVDE</td>\n",
       "      <td>2017-04-01</td>\n",
       "      <td>2020-02-01</td>\n",
       "      <td>One year</td>\n",
       "      <td>No</td>\n",
       "      <td>Mailed check</td>\n",
       "      <td>56.95</td>\n",
       "      <td>2071.84</td>\n",
       "      <td>False</td>\n",
       "      <td>1036</td>\n",
       "    </tr>\n",
       "    <tr>\n",
       "      <th>2</th>\n",
       "      <td>3668-QPYBK</td>\n",
       "      <td>2019-10-01</td>\n",
       "      <td>2020-02-01</td>\n",
       "      <td>Month-to-month</td>\n",
       "      <td>Yes</td>\n",
       "      <td>Mailed check</td>\n",
       "      <td>53.85</td>\n",
       "      <td>226.17</td>\n",
       "      <td>False</td>\n",
       "      <td>123</td>\n",
       "    </tr>\n",
       "    <tr>\n",
       "      <th>3</th>\n",
       "      <td>7795-CFOCW</td>\n",
       "      <td>2016-05-01</td>\n",
       "      <td>2020-02-01</td>\n",
       "      <td>One year</td>\n",
       "      <td>No</td>\n",
       "      <td>Bank transfer (automatic)</td>\n",
       "      <td>42.30</td>\n",
       "      <td>1960.6</td>\n",
       "      <td>False</td>\n",
       "      <td>1371</td>\n",
       "    </tr>\n",
       "    <tr>\n",
       "      <th>4</th>\n",
       "      <td>9237-HQITU</td>\n",
       "      <td>2019-09-01</td>\n",
       "      <td>2020-02-01</td>\n",
       "      <td>Month-to-month</td>\n",
       "      <td>Yes</td>\n",
       "      <td>Electronic check</td>\n",
       "      <td>70.70</td>\n",
       "      <td>353.5</td>\n",
       "      <td>False</td>\n",
       "      <td>153</td>\n",
       "    </tr>\n",
       "  </tbody>\n",
       "</table>\n",
       "</div>"
      ],
      "text/plain": [
       "           id      begin         end     payed_years e_billing  \\\n",
       "0  7590-VHVEG 2020-01-01  2020-02-01  Month-to-month       Yes   \n",
       "1  5575-GNVDE 2017-04-01  2020-02-01        One year        No   \n",
       "2  3668-QPYBK 2019-10-01  2020-02-01  Month-to-month       Yes   \n",
       "3  7795-CFOCW 2016-05-01  2020-02-01        One year        No   \n",
       "4  9237-HQITU 2019-09-01  2020-02-01  Month-to-month       Yes   \n",
       "\n",
       "              payment_method  month_charges total_charges  finish  days  \n",
       "0           Electronic check          29.85         31.04   False    31  \n",
       "1               Mailed check          56.95       2071.84   False  1036  \n",
       "2               Mailed check          53.85        226.17   False   123  \n",
       "3  Bank transfer (automatic)          42.30        1960.6   False  1371  \n",
       "4           Electronic check          70.70         353.5   False   153  "
      ]
     },
     "execution_count": 15,
     "metadata": {},
     "output_type": "execute_result"
    }
   ],
   "source": [
    "contract.head()"
   ]
  },
  {
   "cell_type": "code",
   "execution_count": 16,
   "id": "0749873e-abce-4f85-be0f-e28ac5e0271d",
   "metadata": {},
   "outputs": [],
   "source": [
    "contract.drop(columns=['end','begin'],inplace=True)"
   ]
  },
  {
   "cell_type": "code",
   "execution_count": 17,
   "id": "289bc72d-dffb-4ad4-8406-b0c5fda5cc66",
   "metadata": {
    "scrolled": true
   },
   "outputs": [
    {
     "name": "stdout",
     "output_type": "stream",
     "text": [
      "<class 'pandas.core.frame.DataFrame'>\n",
      "RangeIndex: 7043 entries, 0 to 7042\n",
      "Data columns (total 8 columns):\n",
      " #   Column          Non-Null Count  Dtype  \n",
      "---  ------          --------------  -----  \n",
      " 0   id              7043 non-null   object \n",
      " 1   payed_years     7043 non-null   object \n",
      " 2   e_billing       7043 non-null   object \n",
      " 3   payment_method  7043 non-null   object \n",
      " 4   month_charges   7043 non-null   float64\n",
      " 5   total_charges   7043 non-null   object \n",
      " 6   finish          7043 non-null   bool   \n",
      " 7   days            7043 non-null   int32  \n",
      "dtypes: bool(1), float64(1), int32(1), object(5)\n",
      "memory usage: 364.7+ KB\n"
     ]
    }
   ],
   "source": [
    "contract.info()"
   ]
  },
  {
   "cell_type": "code",
   "execution_count": 18,
   "id": "05c55e18-bfec-4643-b7fb-75b62ace708a",
   "metadata": {},
   "outputs": [
    {
     "data": {
      "text/html": [
       "<div>\n",
       "<style scoped>\n",
       "    .dataframe tbody tr th:only-of-type {\n",
       "        vertical-align: middle;\n",
       "    }\n",
       "\n",
       "    .dataframe tbody tr th {\n",
       "        vertical-align: top;\n",
       "    }\n",
       "\n",
       "    .dataframe thead th {\n",
       "        text-align: right;\n",
       "    }\n",
       "</style>\n",
       "<table border=\"1\" class=\"dataframe\">\n",
       "  <thead>\n",
       "    <tr style=\"text-align: right;\">\n",
       "      <th></th>\n",
       "      <th>id</th>\n",
       "      <th>gender</th>\n",
       "      <th>senior</th>\n",
       "      <th>partner</th>\n",
       "      <th>dependents</th>\n",
       "    </tr>\n",
       "  </thead>\n",
       "  <tbody>\n",
       "    <tr>\n",
       "      <th>0</th>\n",
       "      <td>7590-VHVEG</td>\n",
       "      <td>Female</td>\n",
       "      <td>0</td>\n",
       "      <td>Yes</td>\n",
       "      <td>No</td>\n",
       "    </tr>\n",
       "  </tbody>\n",
       "</table>\n",
       "</div>"
      ],
      "text/plain": [
       "           id  gender  senior partner dependents\n",
       "0  7590-VHVEG  Female       0     Yes         No"
      ]
     },
     "execution_count": 18,
     "metadata": {},
     "output_type": "execute_result"
    }
   ],
   "source": [
    "person.columns=['id','gender','senior','partner','dependents']\n",
    "person.head(1)"
   ]
  },
  {
   "cell_type": "code",
   "execution_count": 19,
   "id": "347eb907-a4a0-4cb9-9b41-c801bf5fb7b5",
   "metadata": {},
   "outputs": [
    {
     "data": {
      "text/html": [
       "<div>\n",
       "<style scoped>\n",
       "    .dataframe tbody tr th:only-of-type {\n",
       "        vertical-align: middle;\n",
       "    }\n",
       "\n",
       "    .dataframe tbody tr th {\n",
       "        vertical-align: top;\n",
       "    }\n",
       "\n",
       "    .dataframe thead th {\n",
       "        text-align: right;\n",
       "    }\n",
       "</style>\n",
       "<table border=\"1\" class=\"dataframe\">\n",
       "  <thead>\n",
       "    <tr style=\"text-align: right;\">\n",
       "      <th></th>\n",
       "      <th>id</th>\n",
       "      <th>service</th>\n",
       "      <th>online_security</th>\n",
       "      <th>cloud</th>\n",
       "      <th>antivirus</th>\n",
       "      <th>support</th>\n",
       "      <th>TV</th>\n",
       "      <th>movies</th>\n",
       "    </tr>\n",
       "  </thead>\n",
       "  <tbody>\n",
       "    <tr>\n",
       "      <th>0</th>\n",
       "      <td>7590-VHVEG</td>\n",
       "      <td>DSL</td>\n",
       "      <td>No</td>\n",
       "      <td>Yes</td>\n",
       "      <td>No</td>\n",
       "      <td>No</td>\n",
       "      <td>No</td>\n",
       "      <td>No</td>\n",
       "    </tr>\n",
       "  </tbody>\n",
       "</table>\n",
       "</div>"
      ],
      "text/plain": [
       "           id service online_security cloud antivirus support  TV movies\n",
       "0  7590-VHVEG     DSL              No   Yes        No      No  No     No"
      ]
     },
     "execution_count": 19,
     "metadata": {},
     "output_type": "execute_result"
    }
   ],
   "source": [
    "internet.columns=['id','service','online_security','cloud','antivirus','support','TV','movies']\n",
    "internet.head(1)"
   ]
  },
  {
   "cell_type": "code",
   "execution_count": 20,
   "id": "41181d1c-fa43-481f-a9a8-7c134084cafb",
   "metadata": {},
   "outputs": [
    {
     "data": {
      "text/html": [
       "<div>\n",
       "<style scoped>\n",
       "    .dataframe tbody tr th:only-of-type {\n",
       "        vertical-align: middle;\n",
       "    }\n",
       "\n",
       "    .dataframe tbody tr th {\n",
       "        vertical-align: top;\n",
       "    }\n",
       "\n",
       "    .dataframe thead th {\n",
       "        text-align: right;\n",
       "    }\n",
       "</style>\n",
       "<table border=\"1\" class=\"dataframe\">\n",
       "  <thead>\n",
       "    <tr style=\"text-align: right;\">\n",
       "      <th></th>\n",
       "      <th>id</th>\n",
       "      <th>multy</th>\n",
       "    </tr>\n",
       "  </thead>\n",
       "  <tbody>\n",
       "    <tr>\n",
       "      <th>0</th>\n",
       "      <td>5575-GNVDE</td>\n",
       "      <td>No</td>\n",
       "    </tr>\n",
       "  </tbody>\n",
       "</table>\n",
       "</div>"
      ],
      "text/plain": [
       "           id multy\n",
       "0  5575-GNVDE    No"
      ]
     },
     "execution_count": 20,
     "metadata": {},
     "output_type": "execute_result"
    }
   ],
   "source": [
    "phone.columns=['id','multy']\n",
    "phone.head(1)"
   ]
  },
  {
   "cell_type": "code",
   "execution_count": 21,
   "id": "729a4304-c517-4a15-9c7c-cf1654ea7604",
   "metadata": {},
   "outputs": [
    {
     "data": {
      "text/plain": [
       "True"
      ]
     },
     "execution_count": 21,
     "metadata": {},
     "output_type": "execute_result"
    }
   ],
   "source": [
    "set(contract.id)==set(person.id)"
   ]
  },
  {
   "cell_type": "markdown",
   "id": "4f2cc628-2d90-4847-92ca-c323f58456e4",
   "metadata": {},
   "source": [
    "Набор пользователей в базе договоров соответствует набору - в базе персональных данных."
   ]
  },
  {
   "cell_type": "code",
   "execution_count": 22,
   "id": "2378b6cc-8c67-4407-82cc-e4cee4c18a56",
   "metadata": {},
   "outputs": [
    {
     "data": {
      "text/plain": [
       "True"
      ]
     },
     "execution_count": 22,
     "metadata": {},
     "output_type": "execute_result"
    }
   ],
   "source": [
    "set(internet.id)<set(contract.id)"
   ]
  },
  {
   "cell_type": "code",
   "execution_count": 23,
   "id": "20928854-4a11-451f-8a7e-67e2b8e33dbc",
   "metadata": {},
   "outputs": [
    {
     "data": {
      "text/plain": [
       "True"
      ]
     },
     "execution_count": 23,
     "metadata": {},
     "output_type": "execute_result"
    }
   ],
   "source": [
    "set(phone.id)<set(contract.id)"
   ]
  },
  {
   "cell_type": "markdown",
   "id": "866dba94-d694-4573-9e34-20f67fae634c",
   "metadata": {},
   "source": [
    "Все абоненты из баз услуг представлены в общих базах."
   ]
  },
  {
   "cell_type": "code",
   "execution_count": 24,
   "id": "bcb6076a-e98a-491e-996d-076b1e40655d",
   "metadata": {},
   "outputs": [],
   "source": [
    "contract.set_index('id',inplace=True)\n",
    "person.set_index('id',inplace=True)\n",
    "internet.set_index('id',inplace=True)\n",
    "phone.set_index('id',inplace=True)"
   ]
  },
  {
   "cell_type": "code",
   "execution_count": 25,
   "id": "4368ad8f-008f-467a-88b2-df61dd5db97b",
   "metadata": {},
   "outputs": [
    {
     "name": "stdout",
     "output_type": "stream",
     "text": [
      "payed_years\n"
     ]
    },
    {
     "data": {
      "text/plain": [
       "array(['Month-to-month', 'One year', 'Two year'], dtype=object)"
      ]
     },
     "metadata": {},
     "output_type": "display_data"
    },
    {
     "name": "stdout",
     "output_type": "stream",
     "text": [
      "e_billing\n"
     ]
    },
    {
     "data": {
      "text/plain": [
       "array(['Yes', 'No'], dtype=object)"
      ]
     },
     "metadata": {},
     "output_type": "display_data"
    },
    {
     "name": "stdout",
     "output_type": "stream",
     "text": [
      "payment_method\n"
     ]
    },
    {
     "data": {
      "text/plain": [
       "array(['Electronic check', 'Mailed check', 'Bank transfer (automatic)',\n",
       "       'Credit card (automatic)'], dtype=object)"
      ]
     },
     "metadata": {},
     "output_type": "display_data"
    },
    {
     "name": "stdout",
     "output_type": "stream",
     "text": [
      "total_charges\n"
     ]
    },
    {
     "data": {
      "text/plain": [
       "array(['31.04', '2071.84', '226.17', ..., '325.6', '520.8', '7251.82'],\n",
       "      dtype=object)"
      ]
     },
     "metadata": {},
     "output_type": "display_data"
    }
   ],
   "source": [
    "unique(contract)"
   ]
  },
  {
   "cell_type": "markdown",
   "id": "bc0a9b38-8c82-4bbe-a5ad-cb1cd52ed468",
   "metadata": {},
   "source": [
    "<div class=\"alert alert-block alert-info\">\n",
    "    \n",
    "`e_billing` заменю на логический.\n",
    "    \n",
    "`total_charges` имеет тип float."
   ]
  },
  {
   "cell_type": "code",
   "execution_count": 26,
   "id": "f689e785-3806-46a7-a16b-0ee0a6b1c542",
   "metadata": {},
   "outputs": [],
   "source": [
    "rang=['Month-to-month', 'One year', 'Two year']# задаю порядок ранговому признаку"
   ]
  },
  {
   "cell_type": "code",
   "execution_count": 27,
   "id": "78b43db9-a827-468b-acab-979df71c0c96",
   "metadata": {},
   "outputs": [],
   "source": [
    "contract.e_billing=contract.e_billing=='Yes'"
   ]
  },
  {
   "cell_type": "code",
   "execution_count": 28,
   "id": "6b408796-b83d-41d8-828d-38e9d12172ee",
   "metadata": {},
   "outputs": [],
   "source": [
    "contract.total_charges=pd.to_numeric(contract.total_charges,errors='coerce')"
   ]
  },
  {
   "cell_type": "code",
   "execution_count": 29,
   "id": "4ec449da-1de8-42f0-8994-37a56be54dc7",
   "metadata": {},
   "outputs": [
    {
     "name": "stdout",
     "output_type": "stream",
     "text": [
      "<class 'pandas.core.frame.DataFrame'>\n",
      "Index: 7043 entries, 7590-VHVEG to 3186-AJIEK\n",
      "Data columns (total 7 columns):\n",
      " #   Column          Non-Null Count  Dtype  \n",
      "---  ------          --------------  -----  \n",
      " 0   payed_years     7043 non-null   object \n",
      " 1   e_billing       7043 non-null   bool   \n",
      " 2   payment_method  7043 non-null   object \n",
      " 3   month_charges   7043 non-null   float64\n",
      " 4   total_charges   7032 non-null   float64\n",
      " 5   finish          7043 non-null   bool   \n",
      " 6   days            7043 non-null   int32  \n",
      "dtypes: bool(2), float64(2), int32(1), object(2)\n",
      "memory usage: 316.4+ KB\n"
     ]
    }
   ],
   "source": [
    "contract.info()"
   ]
  },
  {
   "cell_type": "markdown",
   "id": "69eb957f-c7f7-445d-a88b-5945c28f63b0",
   "metadata": {},
   "source": [
    "Появилось 11 пропусков в общих платежах."
   ]
  },
  {
   "cell_type": "code",
   "execution_count": 30,
   "id": "739d3091-237b-4b9f-ad17-355b82747954",
   "metadata": {},
   "outputs": [
    {
     "data": {
      "text/html": [
       "<div>\n",
       "<style scoped>\n",
       "    .dataframe tbody tr th:only-of-type {\n",
       "        vertical-align: middle;\n",
       "    }\n",
       "\n",
       "    .dataframe tbody tr th {\n",
       "        vertical-align: top;\n",
       "    }\n",
       "\n",
       "    .dataframe thead th {\n",
       "        text-align: right;\n",
       "    }\n",
       "</style>\n",
       "<table border=\"1\" class=\"dataframe\">\n",
       "  <thead>\n",
       "    <tr style=\"text-align: right;\">\n",
       "      <th></th>\n",
       "      <th>payed_years</th>\n",
       "      <th>e_billing</th>\n",
       "      <th>payment_method</th>\n",
       "      <th>month_charges</th>\n",
       "      <th>total_charges</th>\n",
       "      <th>finish</th>\n",
       "      <th>days</th>\n",
       "    </tr>\n",
       "    <tr>\n",
       "      <th>id</th>\n",
       "      <th></th>\n",
       "      <th></th>\n",
       "      <th></th>\n",
       "      <th></th>\n",
       "      <th></th>\n",
       "      <th></th>\n",
       "      <th></th>\n",
       "    </tr>\n",
       "  </thead>\n",
       "  <tbody>\n",
       "    <tr>\n",
       "      <th>4472-LVYGI</th>\n",
       "      <td>Two year</td>\n",
       "      <td>True</td>\n",
       "      <td>Bank transfer (automatic)</td>\n",
       "      <td>52.55</td>\n",
       "      <td>NaN</td>\n",
       "      <td>False</td>\n",
       "      <td>0</td>\n",
       "    </tr>\n",
       "    <tr>\n",
       "      <th>3115-CZMZD</th>\n",
       "      <td>Two year</td>\n",
       "      <td>False</td>\n",
       "      <td>Mailed check</td>\n",
       "      <td>20.25</td>\n",
       "      <td>NaN</td>\n",
       "      <td>False</td>\n",
       "      <td>0</td>\n",
       "    </tr>\n",
       "    <tr>\n",
       "      <th>5709-LVOEQ</th>\n",
       "      <td>Two year</td>\n",
       "      <td>False</td>\n",
       "      <td>Mailed check</td>\n",
       "      <td>80.85</td>\n",
       "      <td>NaN</td>\n",
       "      <td>False</td>\n",
       "      <td>0</td>\n",
       "    </tr>\n",
       "    <tr>\n",
       "      <th>4367-NUYAO</th>\n",
       "      <td>Two year</td>\n",
       "      <td>False</td>\n",
       "      <td>Mailed check</td>\n",
       "      <td>25.75</td>\n",
       "      <td>NaN</td>\n",
       "      <td>False</td>\n",
       "      <td>0</td>\n",
       "    </tr>\n",
       "    <tr>\n",
       "      <th>1371-DWPAZ</th>\n",
       "      <td>Two year</td>\n",
       "      <td>False</td>\n",
       "      <td>Credit card (automatic)</td>\n",
       "      <td>56.05</td>\n",
       "      <td>NaN</td>\n",
       "      <td>False</td>\n",
       "      <td>0</td>\n",
       "    </tr>\n",
       "    <tr>\n",
       "      <th>7644-OMVMY</th>\n",
       "      <td>Two year</td>\n",
       "      <td>False</td>\n",
       "      <td>Mailed check</td>\n",
       "      <td>19.85</td>\n",
       "      <td>NaN</td>\n",
       "      <td>False</td>\n",
       "      <td>0</td>\n",
       "    </tr>\n",
       "    <tr>\n",
       "      <th>3213-VVOLG</th>\n",
       "      <td>Two year</td>\n",
       "      <td>False</td>\n",
       "      <td>Mailed check</td>\n",
       "      <td>25.35</td>\n",
       "      <td>NaN</td>\n",
       "      <td>False</td>\n",
       "      <td>0</td>\n",
       "    </tr>\n",
       "    <tr>\n",
       "      <th>2520-SGTTA</th>\n",
       "      <td>Two year</td>\n",
       "      <td>False</td>\n",
       "      <td>Mailed check</td>\n",
       "      <td>20.00</td>\n",
       "      <td>NaN</td>\n",
       "      <td>False</td>\n",
       "      <td>0</td>\n",
       "    </tr>\n",
       "    <tr>\n",
       "      <th>2923-ARZLG</th>\n",
       "      <td>One year</td>\n",
       "      <td>True</td>\n",
       "      <td>Mailed check</td>\n",
       "      <td>19.70</td>\n",
       "      <td>NaN</td>\n",
       "      <td>False</td>\n",
       "      <td>0</td>\n",
       "    </tr>\n",
       "    <tr>\n",
       "      <th>4075-WKNIU</th>\n",
       "      <td>Two year</td>\n",
       "      <td>False</td>\n",
       "      <td>Mailed check</td>\n",
       "      <td>73.35</td>\n",
       "      <td>NaN</td>\n",
       "      <td>False</td>\n",
       "      <td>0</td>\n",
       "    </tr>\n",
       "    <tr>\n",
       "      <th>2775-SEFEE</th>\n",
       "      <td>Two year</td>\n",
       "      <td>True</td>\n",
       "      <td>Bank transfer (automatic)</td>\n",
       "      <td>61.90</td>\n",
       "      <td>NaN</td>\n",
       "      <td>False</td>\n",
       "      <td>0</td>\n",
       "    </tr>\n",
       "  </tbody>\n",
       "</table>\n",
       "</div>"
      ],
      "text/plain": [
       "           payed_years  e_billing             payment_method  month_charges  \\\n",
       "id                                                                            \n",
       "4472-LVYGI    Two year       True  Bank transfer (automatic)          52.55   \n",
       "3115-CZMZD    Two year      False               Mailed check          20.25   \n",
       "5709-LVOEQ    Two year      False               Mailed check          80.85   \n",
       "4367-NUYAO    Two year      False               Mailed check          25.75   \n",
       "1371-DWPAZ    Two year      False    Credit card (automatic)          56.05   \n",
       "7644-OMVMY    Two year      False               Mailed check          19.85   \n",
       "3213-VVOLG    Two year      False               Mailed check          25.35   \n",
       "2520-SGTTA    Two year      False               Mailed check          20.00   \n",
       "2923-ARZLG    One year       True               Mailed check          19.70   \n",
       "4075-WKNIU    Two year      False               Mailed check          73.35   \n",
       "2775-SEFEE    Two year       True  Bank transfer (automatic)          61.90   \n",
       "\n",
       "            total_charges  finish  days  \n",
       "id                                       \n",
       "4472-LVYGI            NaN   False     0  \n",
       "3115-CZMZD            NaN   False     0  \n",
       "5709-LVOEQ            NaN   False     0  \n",
       "4367-NUYAO            NaN   False     0  \n",
       "1371-DWPAZ            NaN   False     0  \n",
       "7644-OMVMY            NaN   False     0  \n",
       "3213-VVOLG            NaN   False     0  \n",
       "2520-SGTTA            NaN   False     0  \n",
       "2923-ARZLG            NaN   False     0  \n",
       "4075-WKNIU            NaN   False     0  \n",
       "2775-SEFEE            NaN   False     0  "
      ]
     },
     "execution_count": 30,
     "metadata": {},
     "output_type": "execute_result"
    }
   ],
   "source": [
    "contract.query('total_charges.isna()')"
   ]
  },
  {
   "cell_type": "markdown",
   "id": "6b2350e9-c65e-41ff-9876-bc62e0993b02",
   "metadata": {},
   "source": [
    "Все договоры с пропусками в общих платежах заключены в день выгрузки. Вероятно, платежи ещё не поступили. Заменю на ноль."
   ]
  },
  {
   "cell_type": "code",
   "execution_count": 31,
   "id": "0fe64042-fa6c-417e-9d22-308ee9789237",
   "metadata": {},
   "outputs": [],
   "source": [
    "contract.total_charges.fillna(0,inplace=True)"
   ]
  },
  {
   "cell_type": "code",
   "execution_count": 32,
   "id": "4a4f550e-185b-4264-98e1-7eb0994c2090",
   "metadata": {},
   "outputs": [
    {
     "name": "stdout",
     "output_type": "stream",
     "text": [
      "<class 'pandas.core.frame.DataFrame'>\n",
      "Index: 7043 entries, 7590-VHVEG to 3186-AJIEK\n",
      "Data columns (total 7 columns):\n",
      " #   Column          Non-Null Count  Dtype  \n",
      "---  ------          --------------  -----  \n",
      " 0   payed_years     7043 non-null   object \n",
      " 1   e_billing       7043 non-null   bool   \n",
      " 2   payment_method  7043 non-null   object \n",
      " 3   month_charges   7043 non-null   float64\n",
      " 4   total_charges   7043 non-null   float64\n",
      " 5   finish          7043 non-null   bool   \n",
      " 6   days            7043 non-null   int32  \n",
      "dtypes: bool(2), float64(2), int32(1), object(2)\n",
      "memory usage: 316.4+ KB\n"
     ]
    }
   ],
   "source": [
    "contract.info()"
   ]
  },
  {
   "cell_type": "code",
   "execution_count": 33,
   "id": "23942c36-e636-4bf7-9fff-e4ec23bf42f8",
   "metadata": {},
   "outputs": [
    {
     "name": "stdout",
     "output_type": "stream",
     "text": [
      "gender\n"
     ]
    },
    {
     "data": {
      "text/plain": [
       "array(['Female', 'Male'], dtype=object)"
      ]
     },
     "metadata": {},
     "output_type": "display_data"
    },
    {
     "name": "stdout",
     "output_type": "stream",
     "text": [
      "partner\n"
     ]
    },
    {
     "data": {
      "text/plain": [
       "array(['Yes', 'No'], dtype=object)"
      ]
     },
     "metadata": {},
     "output_type": "display_data"
    },
    {
     "name": "stdout",
     "output_type": "stream",
     "text": [
      "dependents\n"
     ]
    },
    {
     "data": {
      "text/plain": [
       "array(['No', 'Yes'], dtype=object)"
      ]
     },
     "metadata": {},
     "output_type": "display_data"
    }
   ],
   "source": [
    "unique(person)"
   ]
  },
  {
   "cell_type": "code",
   "execution_count": 34,
   "id": "22dbf3a9-1906-434c-a493-704f481f7041",
   "metadata": {},
   "outputs": [],
   "source": [
    "person['male']=person.gender=='Male'\n",
    "person['has_partner']=person.partner=='Yes'\n",
    "person['has_dependents']=person.dependents=='Yes'\n",
    "person.drop(columns=['gender','partner','dependents'],inplace=True)"
   ]
  },
  {
   "cell_type": "code",
   "execution_count": 35,
   "id": "911d9cc3-eeae-4dbd-bbff-e70338350dfa",
   "metadata": {},
   "outputs": [
    {
     "data": {
      "text/plain": [
       "array([0, 1], dtype=int64)"
      ]
     },
     "execution_count": 35,
     "metadata": {},
     "output_type": "execute_result"
    }
   ],
   "source": [
    "person.senior.unique()"
   ]
  },
  {
   "cell_type": "code",
   "execution_count": 36,
   "id": "39013f32-1a47-48db-a992-07fbe63507ae",
   "metadata": {},
   "outputs": [],
   "source": [
    "person['senior']=person.senior==1"
   ]
  },
  {
   "cell_type": "code",
   "execution_count": 37,
   "id": "d5b2bd46-cdf8-438a-bfcd-005280d0c608",
   "metadata": {},
   "outputs": [
    {
     "name": "stdout",
     "output_type": "stream",
     "text": [
      "<class 'pandas.core.frame.DataFrame'>\n",
      "Index: 7043 entries, 7590-VHVEG to 3186-AJIEK\n",
      "Data columns (total 4 columns):\n",
      " #   Column          Non-Null Count  Dtype\n",
      "---  ------          --------------  -----\n",
      " 0   senior          7043 non-null   bool \n",
      " 1   male            7043 non-null   bool \n",
      " 2   has_partner     7043 non-null   bool \n",
      " 3   has_dependents  7043 non-null   bool \n",
      "dtypes: bool(4)\n",
      "memory usage: 82.5+ KB\n"
     ]
    }
   ],
   "source": [
    "person.info()"
   ]
  },
  {
   "cell_type": "code",
   "execution_count": 38,
   "id": "b9414b4c-a575-4183-bc17-1c470e150dad",
   "metadata": {},
   "outputs": [
    {
     "name": "stdout",
     "output_type": "stream",
     "text": [
      "service\n"
     ]
    },
    {
     "data": {
      "text/plain": [
       "array(['DSL', 'Fiber optic'], dtype=object)"
      ]
     },
     "metadata": {},
     "output_type": "display_data"
    },
    {
     "name": "stdout",
     "output_type": "stream",
     "text": [
      "online_security\n"
     ]
    },
    {
     "data": {
      "text/plain": [
       "array(['No', 'Yes'], dtype=object)"
      ]
     },
     "metadata": {},
     "output_type": "display_data"
    },
    {
     "name": "stdout",
     "output_type": "stream",
     "text": [
      "cloud\n"
     ]
    },
    {
     "data": {
      "text/plain": [
       "array(['Yes', 'No'], dtype=object)"
      ]
     },
     "metadata": {},
     "output_type": "display_data"
    },
    {
     "name": "stdout",
     "output_type": "stream",
     "text": [
      "antivirus\n"
     ]
    },
    {
     "data": {
      "text/plain": [
       "array(['No', 'Yes'], dtype=object)"
      ]
     },
     "metadata": {},
     "output_type": "display_data"
    },
    {
     "name": "stdout",
     "output_type": "stream",
     "text": [
      "support\n"
     ]
    },
    {
     "data": {
      "text/plain": [
       "array(['No', 'Yes'], dtype=object)"
      ]
     },
     "metadata": {},
     "output_type": "display_data"
    },
    {
     "name": "stdout",
     "output_type": "stream",
     "text": [
      "TV\n"
     ]
    },
    {
     "data": {
      "text/plain": [
       "array(['No', 'Yes'], dtype=object)"
      ]
     },
     "metadata": {},
     "output_type": "display_data"
    },
    {
     "name": "stdout",
     "output_type": "stream",
     "text": [
      "movies\n"
     ]
    },
    {
     "data": {
      "text/plain": [
       "array(['No', 'Yes'], dtype=object)"
      ]
     },
     "metadata": {},
     "output_type": "display_data"
    }
   ],
   "source": [
    "unique(internet)"
   ]
  },
  {
   "cell_type": "code",
   "execution_count": 39,
   "id": "e23ae93a-2d08-43ed-af63-b3dae35cef15",
   "metadata": {},
   "outputs": [],
   "source": [
    "for col in ['online_security', 'cloud', 'antivirus', 'support', 'TV',\n",
    "       'movies']:\n",
    "    internet[col]=internet[col]=='Yes'"
   ]
  },
  {
   "cell_type": "code",
   "execution_count": 40,
   "id": "e7c6d25f-30fa-43e9-9e36-3c4f7756b0ae",
   "metadata": {},
   "outputs": [
    {
     "name": "stdout",
     "output_type": "stream",
     "text": [
      "<class 'pandas.core.frame.DataFrame'>\n",
      "Index: 5517 entries, 7590-VHVEG to 3186-AJIEK\n",
      "Data columns (total 7 columns):\n",
      " #   Column           Non-Null Count  Dtype \n",
      "---  ------           --------------  ----- \n",
      " 0   service          5517 non-null   object\n",
      " 1   online_security  5517 non-null   bool  \n",
      " 2   cloud            5517 non-null   bool  \n",
      " 3   antivirus        5517 non-null   bool  \n",
      " 4   support          5517 non-null   bool  \n",
      " 5   TV               5517 non-null   bool  \n",
      " 6   movies           5517 non-null   bool  \n",
      "dtypes: bool(6), object(1)\n",
      "memory usage: 118.5+ KB\n"
     ]
    }
   ],
   "source": [
    "internet.info()"
   ]
  },
  {
   "cell_type": "code",
   "execution_count": 41,
   "id": "2a24a43b-61c5-4afe-815f-99c87b5d6177",
   "metadata": {},
   "outputs": [
    {
     "name": "stdout",
     "output_type": "stream",
     "text": [
      "multy\n"
     ]
    },
    {
     "data": {
      "text/plain": [
       "array(['No', 'Yes'], dtype=object)"
      ]
     },
     "metadata": {},
     "output_type": "display_data"
    }
   ],
   "source": [
    "unique(phone)"
   ]
  },
  {
   "cell_type": "code",
   "execution_count": 42,
   "id": "17cee3f2-9bf4-48aa-a97a-f007c785507d",
   "metadata": {},
   "outputs": [],
   "source": [
    "phone['multy']=phone.multy=='Yes'"
   ]
  },
  {
   "cell_type": "code",
   "execution_count": 43,
   "id": "b46c1445-781b-4550-b647-ca438d1e3134",
   "metadata": {},
   "outputs": [
    {
     "name": "stdout",
     "output_type": "stream",
     "text": [
      "<class 'pandas.core.frame.DataFrame'>\n",
      "Index: 6361 entries, 5575-GNVDE to 3186-AJIEK\n",
      "Data columns (total 1 columns):\n",
      " #   Column  Non-Null Count  Dtype\n",
      "---  ------  --------------  -----\n",
      " 0   multy   6361 non-null   bool \n",
      "dtypes: bool(1)\n",
      "memory usage: 55.9+ KB\n"
     ]
    }
   ],
   "source": [
    "phone.info()"
   ]
  },
  {
   "cell_type": "markdown",
   "id": "1d8acd17-208a-406f-970e-d0d602d51967",
   "metadata": {},
   "source": [
    "## Объединение данных"
   ]
  },
  {
   "cell_type": "code",
   "execution_count": 44,
   "id": "aa8b2ef5-431b-4996-b19f-04520bbaa967",
   "metadata": {},
   "outputs": [
    {
     "data": {
      "text/plain": [
       "78.33309669175067"
      ]
     },
     "execution_count": 44,
     "metadata": {},
     "output_type": "execute_result"
    }
   ],
   "source": [
    "len(internet)/len(contract)*100"
   ]
  },
  {
   "cell_type": "code",
   "execution_count": 45,
   "id": "b6bdf811-a267-4c2d-af65-91b11f93931a",
   "metadata": {},
   "outputs": [
    {
     "data": {
      "text/plain": [
       "90.31662643759762"
      ]
     },
     "execution_count": 45,
     "metadata": {},
     "output_type": "execute_result"
    }
   ],
   "source": [
    "len(phone)/len(contract)*100"
   ]
  },
  {
   "cell_type": "markdown",
   "id": "841bdda8-849c-4b95-9487-59af4a3bffd0",
   "metadata": {},
   "source": [
    "80% пользователей предоставлялись услуги интернета и 90% - телефонии. Значит, 70% - обе услуги."
   ]
  },
  {
   "cell_type": "code",
   "execution_count": 46,
   "id": "ab915bf3-1c5a-48aa-917a-ade724a54c96",
   "metadata": {},
   "outputs": [],
   "source": [
    "df=contract.join([person,internet,phone],how='outer')"
   ]
  },
  {
   "cell_type": "code",
   "execution_count": 47,
   "id": "bae2d371-3fa4-4b26-b4d3-9fd2e413d5dc",
   "metadata": {
    "scrolled": true
   },
   "outputs": [
    {
     "data": {
      "text/html": [
       "<div>\n",
       "<style scoped>\n",
       "    .dataframe tbody tr th:only-of-type {\n",
       "        vertical-align: middle;\n",
       "    }\n",
       "\n",
       "    .dataframe tbody tr th {\n",
       "        vertical-align: top;\n",
       "    }\n",
       "\n",
       "    .dataframe thead th {\n",
       "        text-align: right;\n",
       "    }\n",
       "</style>\n",
       "<table border=\"1\" class=\"dataframe\">\n",
       "  <thead>\n",
       "    <tr style=\"text-align: right;\">\n",
       "      <th></th>\n",
       "      <th>payed_years</th>\n",
       "      <th>e_billing</th>\n",
       "      <th>payment_method</th>\n",
       "      <th>month_charges</th>\n",
       "      <th>total_charges</th>\n",
       "      <th>finish</th>\n",
       "      <th>days</th>\n",
       "      <th>senior</th>\n",
       "      <th>male</th>\n",
       "      <th>has_partner</th>\n",
       "      <th>has_dependents</th>\n",
       "      <th>service</th>\n",
       "      <th>online_security</th>\n",
       "      <th>cloud</th>\n",
       "      <th>antivirus</th>\n",
       "      <th>support</th>\n",
       "      <th>TV</th>\n",
       "      <th>movies</th>\n",
       "      <th>multy</th>\n",
       "    </tr>\n",
       "    <tr>\n",
       "      <th>id</th>\n",
       "      <th></th>\n",
       "      <th></th>\n",
       "      <th></th>\n",
       "      <th></th>\n",
       "      <th></th>\n",
       "      <th></th>\n",
       "      <th></th>\n",
       "      <th></th>\n",
       "      <th></th>\n",
       "      <th></th>\n",
       "      <th></th>\n",
       "      <th></th>\n",
       "      <th></th>\n",
       "      <th></th>\n",
       "      <th></th>\n",
       "      <th></th>\n",
       "      <th></th>\n",
       "      <th></th>\n",
       "      <th></th>\n",
       "    </tr>\n",
       "  </thead>\n",
       "  <tbody>\n",
       "    <tr>\n",
       "      <th>7590-VHVEG</th>\n",
       "      <td>Month-to-month</td>\n",
       "      <td>True</td>\n",
       "      <td>Electronic check</td>\n",
       "      <td>29.85</td>\n",
       "      <td>31.04</td>\n",
       "      <td>False</td>\n",
       "      <td>31</td>\n",
       "      <td>False</td>\n",
       "      <td>False</td>\n",
       "      <td>True</td>\n",
       "      <td>False</td>\n",
       "      <td>DSL</td>\n",
       "      <td>False</td>\n",
       "      <td>True</td>\n",
       "      <td>False</td>\n",
       "      <td>False</td>\n",
       "      <td>False</td>\n",
       "      <td>False</td>\n",
       "      <td>NaN</td>\n",
       "    </tr>\n",
       "    <tr>\n",
       "      <th>5575-GNVDE</th>\n",
       "      <td>One year</td>\n",
       "      <td>False</td>\n",
       "      <td>Mailed check</td>\n",
       "      <td>56.95</td>\n",
       "      <td>2071.84</td>\n",
       "      <td>False</td>\n",
       "      <td>1036</td>\n",
       "      <td>False</td>\n",
       "      <td>True</td>\n",
       "      <td>False</td>\n",
       "      <td>False</td>\n",
       "      <td>DSL</td>\n",
       "      <td>True</td>\n",
       "      <td>False</td>\n",
       "      <td>True</td>\n",
       "      <td>False</td>\n",
       "      <td>False</td>\n",
       "      <td>False</td>\n",
       "      <td>False</td>\n",
       "    </tr>\n",
       "    <tr>\n",
       "      <th>3668-QPYBK</th>\n",
       "      <td>Month-to-month</td>\n",
       "      <td>True</td>\n",
       "      <td>Mailed check</td>\n",
       "      <td>53.85</td>\n",
       "      <td>226.17</td>\n",
       "      <td>False</td>\n",
       "      <td>123</td>\n",
       "      <td>False</td>\n",
       "      <td>True</td>\n",
       "      <td>False</td>\n",
       "      <td>False</td>\n",
       "      <td>DSL</td>\n",
       "      <td>True</td>\n",
       "      <td>True</td>\n",
       "      <td>False</td>\n",
       "      <td>False</td>\n",
       "      <td>False</td>\n",
       "      <td>False</td>\n",
       "      <td>False</td>\n",
       "    </tr>\n",
       "    <tr>\n",
       "      <th>7795-CFOCW</th>\n",
       "      <td>One year</td>\n",
       "      <td>False</td>\n",
       "      <td>Bank transfer (automatic)</td>\n",
       "      <td>42.30</td>\n",
       "      <td>1960.60</td>\n",
       "      <td>False</td>\n",
       "      <td>1371</td>\n",
       "      <td>False</td>\n",
       "      <td>True</td>\n",
       "      <td>False</td>\n",
       "      <td>False</td>\n",
       "      <td>DSL</td>\n",
       "      <td>True</td>\n",
       "      <td>False</td>\n",
       "      <td>True</td>\n",
       "      <td>True</td>\n",
       "      <td>False</td>\n",
       "      <td>False</td>\n",
       "      <td>NaN</td>\n",
       "    </tr>\n",
       "    <tr>\n",
       "      <th>9237-HQITU</th>\n",
       "      <td>Month-to-month</td>\n",
       "      <td>True</td>\n",
       "      <td>Electronic check</td>\n",
       "      <td>70.70</td>\n",
       "      <td>353.50</td>\n",
       "      <td>False</td>\n",
       "      <td>153</td>\n",
       "      <td>False</td>\n",
       "      <td>False</td>\n",
       "      <td>False</td>\n",
       "      <td>False</td>\n",
       "      <td>Fiber optic</td>\n",
       "      <td>False</td>\n",
       "      <td>False</td>\n",
       "      <td>False</td>\n",
       "      <td>False</td>\n",
       "      <td>False</td>\n",
       "      <td>False</td>\n",
       "      <td>False</td>\n",
       "    </tr>\n",
       "  </tbody>\n",
       "</table>\n",
       "</div>"
      ],
      "text/plain": [
       "               payed_years  e_billing             payment_method  \\\n",
       "id                                                                 \n",
       "7590-VHVEG  Month-to-month       True           Electronic check   \n",
       "5575-GNVDE        One year      False               Mailed check   \n",
       "3668-QPYBK  Month-to-month       True               Mailed check   \n",
       "7795-CFOCW        One year      False  Bank transfer (automatic)   \n",
       "9237-HQITU  Month-to-month       True           Electronic check   \n",
       "\n",
       "            month_charges  total_charges  finish  days  senior   male  \\\n",
       "id                                                                      \n",
       "7590-VHVEG          29.85          31.04   False    31   False  False   \n",
       "5575-GNVDE          56.95        2071.84   False  1036   False   True   \n",
       "3668-QPYBK          53.85         226.17   False   123   False   True   \n",
       "7795-CFOCW          42.30        1960.60   False  1371   False   True   \n",
       "9237-HQITU          70.70         353.50   False   153   False  False   \n",
       "\n",
       "            has_partner  has_dependents      service online_security  cloud  \\\n",
       "id                                                                            \n",
       "7590-VHVEG         True           False          DSL           False   True   \n",
       "5575-GNVDE        False           False          DSL            True  False   \n",
       "3668-QPYBK        False           False          DSL            True   True   \n",
       "7795-CFOCW        False           False          DSL            True  False   \n",
       "9237-HQITU        False           False  Fiber optic           False  False   \n",
       "\n",
       "           antivirus support     TV movies  multy  \n",
       "id                                                 \n",
       "7590-VHVEG     False   False  False  False    NaN  \n",
       "5575-GNVDE      True   False  False  False  False  \n",
       "3668-QPYBK     False   False  False  False  False  \n",
       "7795-CFOCW      True    True  False  False    NaN  \n",
       "9237-HQITU     False   False  False  False  False  "
      ]
     },
     "execution_count": 47,
     "metadata": {},
     "output_type": "execute_result"
    }
   ],
   "source": [
    "df.head()"
   ]
  },
  {
   "cell_type": "code",
   "execution_count": 48,
   "id": "b9fb150d-c6c4-4fcb-877e-052744c5016b",
   "metadata": {},
   "outputs": [
    {
     "name": "stdout",
     "output_type": "stream",
     "text": [
      "<class 'pandas.core.frame.DataFrame'>\n",
      "Index: 7043 entries, 7590-VHVEG to 3186-AJIEK\n",
      "Data columns (total 19 columns):\n",
      " #   Column           Non-Null Count  Dtype  \n",
      "---  ------           --------------  -----  \n",
      " 0   payed_years      7043 non-null   object \n",
      " 1   e_billing        7043 non-null   bool   \n",
      " 2   payment_method   7043 non-null   object \n",
      " 3   month_charges    7043 non-null   float64\n",
      " 4   total_charges    7043 non-null   float64\n",
      " 5   finish           7043 non-null   bool   \n",
      " 6   days             7043 non-null   int32  \n",
      " 7   senior           7043 non-null   bool   \n",
      " 8   male             7043 non-null   bool   \n",
      " 9   has_partner      7043 non-null   bool   \n",
      " 10  has_dependents   7043 non-null   bool   \n",
      " 11  service          5517 non-null   object \n",
      " 12  online_security  5517 non-null   object \n",
      " 13  cloud            5517 non-null   object \n",
      " 14  antivirus        5517 non-null   object \n",
      " 15  support          5517 non-null   object \n",
      " 16  TV               5517 non-null   object \n",
      " 17  movies           5517 non-null   object \n",
      " 18  multy            6361 non-null   object \n",
      "dtypes: bool(6), float64(2), int32(1), object(10)\n",
      "memory usage: 784.1+ KB\n"
     ]
    }
   ],
   "source": [
    "df.info()"
   ]
  },
  {
   "cell_type": "markdown",
   "id": "c5f6927a-4715-41e5-b96e-65d37177836b",
   "metadata": {},
   "source": [
    "После объединения появились пропуски в тех id, где не было какой-либо услуги. Заполню пропуски в логичеcких признаках отрицанием наличия услуги.\\\n",
    "В признаке типа подключения  проставлю значение No."
   ]
  },
  {
   "cell_type": "code",
   "execution_count": 49,
   "id": "39846157-d899-4efe-b473-59d62596fc0b",
   "metadata": {},
   "outputs": [],
   "source": [
    "df.service.fillna('No',inplace=True)\n",
    "df=df.fillna(False)"
   ]
  },
  {
   "cell_type": "code",
   "execution_count": 50,
   "id": "74b4afe1-3e98-4888-a0d1-d12c10d9c7a0",
   "metadata": {},
   "outputs": [
    {
     "name": "stdout",
     "output_type": "stream",
     "text": [
      "<class 'pandas.core.frame.DataFrame'>\n",
      "Index: 7043 entries, 7590-VHVEG to 3186-AJIEK\n",
      "Data columns (total 19 columns):\n",
      " #   Column           Non-Null Count  Dtype  \n",
      "---  ------           --------------  -----  \n",
      " 0   payed_years      7043 non-null   object \n",
      " 1   e_billing        7043 non-null   bool   \n",
      " 2   payment_method   7043 non-null   object \n",
      " 3   month_charges    7043 non-null   float64\n",
      " 4   total_charges    7043 non-null   float64\n",
      " 5   finish           7043 non-null   bool   \n",
      " 6   days             7043 non-null   int32  \n",
      " 7   senior           7043 non-null   bool   \n",
      " 8   male             7043 non-null   bool   \n",
      " 9   has_partner      7043 non-null   bool   \n",
      " 10  has_dependents   7043 non-null   bool   \n",
      " 11  service          7043 non-null   object \n",
      " 12  online_security  7043 non-null   bool   \n",
      " 13  cloud            7043 non-null   bool   \n",
      " 14  antivirus        7043 non-null   bool   \n",
      " 15  support          7043 non-null   bool   \n",
      " 16  TV               7043 non-null   bool   \n",
      " 17  movies           7043 non-null   bool   \n",
      " 18  multy            7043 non-null   bool   \n",
      "dtypes: bool(13), float64(2), int32(1), object(3)\n",
      "memory usage: 447.1+ KB\n"
     ]
    }
   ],
   "source": [
    "df.info()"
   ]
  },
  {
   "cell_type": "markdown",
   "id": "c4d45d71-24b3-4428-8c04-318d2d6cc57e",
   "metadata": {},
   "source": [
    "### Выводы"
   ]
  },
  {
   "cell_type": "markdown",
   "id": "910beb7f-7cfa-44fd-9e81-7b027212bb1b",
   "metadata": {},
   "source": [
    "<div class=\"alert alert-info\">\n",
    "\n",
    "\n",
    "- Нам даны четыре небольшие базы размерами до 10 тыс. записей и с количеством признаков до 8.\n",
    "- Дубликаты и пропуски в базах отсутствуют.\n",
    "- Повторов id в базах нет. \n",
    "Количество контрактов равно количеству записей в персональных данных.\n",
    "- Предоставленных услуг телефонии больше, чем интернета.\n",
    "- Договоры заключались с октября 2013 по февраль 2020. Расторгались с июня 2014 по январь 2020. Даты округлены до первых чисел месяцев.\n",
    "- Все даты окончания договоров - до даты выгрузки. Есть либо законченные контракты, либо длящиеся. На основе признака окончания договора получен целевой бинарный признак расторжения контракта.\n",
    "- Присутствует дисбаланс классов: 84% продолжают оставаться клинтами компании.\n",
    "- Добавлен дополнительный признак: прошедшее количество дней договора. Удален признак даты заключения договора.\n",
    "- Все договоры с пропусками в общих платежах заключены в день выгрузки. Вероятно, платежи ещё не поступили. Пропуски заменены нулём.\n",
    "- 80% пользователей предоставлялись услуги интернета и 90% - телефонии. Значит, 70% - обе услуги.\n",
    "- Таблицы сведены в единую базу. Пропуски заполнены отсутствием услуги."
   ]
  },
  {
   "cell_type": "markdown",
   "id": "aabaa6aa-31d7-4126-bfcd-1c98b5c4dcac",
   "metadata": {},
   "source": [
    "## Исследовательский анализ данных"
   ]
  },
  {
   "cell_type": "code",
   "execution_count": 51,
   "id": "a2324425-d3f9-4010-ab44-f81bc8615769",
   "metadata": {},
   "outputs": [
    {
     "data": {
      "image/png": "[encoded data removed]",
      "text/plain": [
       "<Figure size 1728x576 with 2 Axes>"
      ]
     },
     "metadata": {
      "needs_background": "light"
     },
     "output_type": "display_data"
    },
    {
     "data": {
      "image/png": "[encoded data removed]",
      "text/plain": [
       "<Figure size 1728x576 with 2 Axes>"
      ]
     },
     "metadata": {
      "needs_background": "light"
     },
     "output_type": "display_data"
    },
    {
     "data": {
      "image/png": "[encoded data removed]",
      "text/plain": [
       "<Figure size 1728x576 with 2 Axes>"
      ]
     },
     "metadata": {
      "needs_background": "light"
     },
     "output_type": "display_data"
    }
   ],
   "source": [
    "num=['month_charges','total_charges','days']\n",
    "for col in num:\n",
    "    fig, (ax_box, ax_hist) = plt.subplots(2,sharex = True,\n",
    "                                         gridspec_kw = {'height_ratios': (.05,.95)},\n",
    "                                         figsize=(24,8)) \n",
    "     \n",
    "    sb.boxplot(x = df[col], ax = ax_box)\n",
    "    sb.histplot(x = df[col], ax = ax_hist, bins = 77, kde = True) \n",
    "    ax_box.set_title(col)\n",
    "    ax_box.set(xlabel='')\n",
    "    ax_hist.set(xlabel = '', ylabel = \"встречаемость\")\n",
    "    plt.rc('font', size=16)\n",
    "    plt.grid();"
   ]
  },
  {
   "cell_type": "code",
   "execution_count": 52,
   "id": "2cb82992-0b28-4e38-80a0-aea2cb46c3fa",
   "metadata": {},
   "outputs": [
    {
     "data": {
      "text/plain": [
       "18.25"
      ]
     },
     "execution_count": 52,
     "metadata": {},
     "output_type": "execute_result"
    }
   ],
   "source": [
    "df.month_charges.min()"
   ]
  },
  {
   "cell_type": "code",
   "execution_count": 53,
   "id": "ce9c95f9-e71d-4df7-8637-4a4b34a6dcda",
   "metadata": {},
   "outputs": [
    {
     "data": {
      "text/plain": [
       "2.569927587675706"
      ]
     },
     "execution_count": 53,
     "metadata": {},
     "output_type": "execute_result"
    }
   ],
   "source": [
    "df.query('total_charges>7500')['finish'].count()/df.finish.count()*100"
   ]
  },
  {
   "cell_type": "markdown",
   "id": "5fc5556d-b876-405e-b91a-141d82f46447",
   "metadata": {},
   "source": [
    "В месячных платежах выбросов нет. Значения от 18 до 120. Распределены бимодальны. Вероятно, по причине разных услуг связи: телефония или интернет."
   ]
  },
  {
   "cell_type": "markdown",
   "id": "c4ee0708-8a66-4372-a8aa-70bcd3a6c1fe",
   "metadata": {},
   "source": [
    "Общие расходы абонента распределены нормально с пиком на 500, выбросных значений - больше 7500 - 3%, вписаны в нормальное распределение. Cохраню данные."
   ]
  },
  {
   "cell_type": "markdown",
   "id": "b679d61a-95ea-4a2b-8ba2-ca7cd2841ab5",
   "metadata": {},
   "source": [
    "В распределении длительности бимодальности на 4-месячных договорах и контрактах почти на протяжении всего 6-летнего срока."
   ]
  },
  {
   "cell_type": "code",
   "execution_count": 54,
   "id": "33261701-8a37-44ce-93e6-3883fced1706",
   "metadata": {},
   "outputs": [
    {
     "data": {
      "text/plain": [
       "15"
      ]
     },
     "execution_count": 54,
     "metadata": {},
     "output_type": "execute_result"
    }
   ],
   "source": [
    "nom=df.select_dtypes(include=['object','bool']).columns.to_list()\n",
    "nom.remove('payment_method')\n",
    "len(nom)"
   ]
  },
  {
   "cell_type": "code",
   "execution_count": 55,
   "id": "ca4f9980-9217-4cb9-851d-c977da22d0af",
   "metadata": {},
   "outputs": [
    {
     "data": {
      "image/png": "[encoded data removed]",
      "text/plain": [
       "<Figure size 1440x1440 with 15 Axes>"
      ]
     },
     "metadata": {
      "needs_background": "light"
     },
     "output_type": "display_data"
    }
   ],
   "source": [
    "i=1\n",
    "fig=plt.figure(figsize=(20,20))\n",
    "plt.rc('font', size=10)\n",
    "for col in nom:\n",
    "    ax=fig.add_subplot(4,4,i)\n",
    "    (df[col].value_counts(normalize=True)*100).plot.bar(title=col,ax=ax,rot=0)\n",
    "    i+=1\n",
    "    plt.ylabel('%')\n",
    "    plt.grid()\n",
    "plt.show();"
   ]
  },
  {
   "cell_type": "markdown",
   "id": "99c1b048-a6ff-4e1c-89ee-b63c9abc06b2",
   "metadata": {},
   "source": [
    "16% ушли от оператора,\\\n",
    "16% пенсионеры,\\\n",
    "поровну распределение мужчин и женщин,\\\n",
    "поровну в браке и нет, \\\n",
    "дети - у 30%,\\\n",
    "больше 40% получают услуги связи через оптоволокно,\\\n",
    "треть пользуются дополнительными интернет услугами,\\\n",
    "стриминговым телевидением и каталогом фильмов пользуются 40%,\\\n",
    "у 40% есть подключение телефона к нескольким линиям,\\\n",
    "больше 50% на ежемесячной оплате, по 20% - на одно- и двухлетней."
   ]
  },
  {
   "cell_type": "code",
   "execution_count": 56,
   "id": "3fcc1a41-9914-4c0b-b973-bbe8172ca1dd",
   "metadata": {},
   "outputs": [],
   "source": [
    "nom.append('payment_method')"
   ]
  },
  {
   "cell_type": "code",
   "execution_count": 57,
   "id": "1431d386-67e1-4a21-95ad-7b896383d82c",
   "metadata": {},
   "outputs": [
    {
     "data": {
      "image/png": "[encoded data removed]",
      "text/plain": [
       "<Figure size 720x216 with 1 Axes>"
      ]
     },
     "metadata": {
      "needs_background": "light"
     },
     "output_type": "display_data"
    }
   ],
   "source": [
    "plt.figure(figsize=(10,3))\n",
    "plt.rc('font', size=10)\n",
    "(df['payment_method'].value_counts(normalize=True)*100).plot.bar(title='payment_method',rot=0)\n",
    "plt.ylabel('%')\n",
    "plt.grid();"
   ]
  },
  {
   "cell_type": "markdown",
   "id": "eb7c98f6-2875-429f-a27e-fe720b19a111",
   "metadata": {},
   "source": [
    "У трети электронный чек, остальные способы оплаты распределены равномерно."
   ]
  },
  {
   "cell_type": "code",
   "execution_count": 58,
   "id": "c3596692-77aa-4f68-b7ed-62311a92635b",
   "metadata": {},
   "outputs": [
    {
     "data": {
      "image/png": "[encoded data removed]",
      "text/plain": [
       "<Figure size 1080x720 with 2 Axes>"
      ]
     },
     "metadata": {
      "needs_background": "light"
     },
     "output_type": "display_data"
    }
   ],
   "source": [
    "plt.figure(figsize=(15,10))\n",
    "sb.heatmap((df.phik_matrix(interval_cols=num))*100,annot=True,fmt='.0f')\n",
    "plt.title('Диаграмма корреляций');"
   ]
  },
  {
   "cell_type": "markdown",
   "id": "815bd5c4-11a4-47ec-9efa-8abca99895bb",
   "metadata": {},
   "source": [
    "<div class=\"alert alert-block alert-info\">\n",
    "\n",
    "Мультиколлинеарность между типом подключения и месячным платежом.\\\n",
    "Высокие линейные корреляции между: \n",
    "- ожидаемая высокая корреляция между общими тратами абонента и длительностью обслуживания, между тратами и месячным платежом,\n",
    "- месячным платежом и стриминговым телевидением: видимо, услуга заметно повышает цену,\n",
    "- месячным платежом и доступом к каталогу фильмов: высокая корреляция между услугами телефидения и каталогом фильмов. "
   ]
  },
  {
   "cell_type": "code",
   "execution_count": 59,
   "id": "2da41113-ef93-494a-9a99-c2a21a494230",
   "metadata": {},
   "outputs": [
    {
     "data": {
      "image/png": "[encoded data removed]",
      "text/plain": [
       "<Figure size 432x360 with 1 Axes>"
      ]
     },
     "metadata": {
      "needs_background": "light"
     },
     "output_type": "display_data"
    }
   ],
   "source": [
    "ax=df.query('service==\"No\"')['month_charges']\\\n",
    ".plot(kind='kde', title='Распределение месячных платежей по типам интернет подключения',label='отсутствует')\n",
    "df.query('service==\"DSL\"')['month_charges'].plot(kind='kde',ax=ax,figsize=(6,5),label='DSL')\n",
    "df.query('service==\"Fiber optic\"')['month_charges'].plot(kind='kde',ax=ax,label='Optic')\n",
    "plt.legend(loc='upper right')\n",
    "plt.ylabel('плотность вероятности')\n",
    "plt.grid()\n",
    "plt.xlim(0,140);"
   ]
  },
  {
   "cell_type": "markdown",
   "id": "da1f8a56-d355-4d31-869c-51f3e0d129f1",
   "metadata": {},
   "source": [
    "Плата за телефон меньше, чем за интернет, а плата за DSL меньше, чем за оптику. Удалю признак типа подключения."
   ]
  },
  {
   "cell_type": "code",
   "execution_count": 60,
   "id": "1fd9c9db-3089-4fcc-9822-c25d063faebb",
   "metadata": {},
   "outputs": [],
   "source": [
    "df=df.drop(columns=['service'])"
   ]
  },
  {
   "cell_type": "code",
   "execution_count": 61,
   "id": "9e277e17-9223-4185-8f05-d9810fa28fd8",
   "metadata": {},
   "outputs": [
    {
     "name": "stdout",
     "output_type": "stream",
     "text": [
      "Удалено полных дубликатов:  4\n"
     ]
    }
   ],
   "source": [
    "d=df.duplicated().sum()\n",
    "if d==0:\n",
    "    print('Дубликатов нет')\n",
    "else:\n",
    "    df=df.drop_duplicates()\n",
    "    print('Удалено полных дубликатов: ',d)    \n",
    "features=df.drop('finish',1)\n",
    "index=features[features.duplicated(keep=False)].index\n",
    "l=len(index)\n",
    "if l!=0:\n",
    "    print('Удалено строк с одинаковыми входными признаками и разным значением целевого признака: ', l)\n",
    "    df=df.drop(index)"
   ]
  },
  {
   "cell_type": "markdown",
   "id": "b2785326-a24c-4435-a8eb-e3f680c66b6e",
   "metadata": {},
   "source": [
    "### Выводы"
   ]
  },
  {
   "cell_type": "markdown",
   "id": "51d77821-5894-4f27-ba51-4e64b28de596",
   "metadata": {},
   "source": [
    "<div class=\"alert alert-block alert-info\">\n",
    "    \n",
    "- Есть 3% выбросов в общих тратах абонента: значения больше 7500, вписаны в нормальное распределение. Данные сохранены.\n",
    "- Месячные платежи - от 18 до 120. Распределены бимодальны. Плата за телефон значительно меньше, чем за интернет, и плата за DSL меньше, чем за оптику.\n",
    "- Уберу мультиколлинеарные признаки для уменьшения числа признаков: из признаков типа подключения и месячного платежа, оставлен второй - у него больше корреляция с целевым признаком и он информативней.\n",
    "- Общие расходы абонента распределены нормально с пиком на 500.\n",
    "- Бимодальности на 4-месячных договорах и контрактах почти на протяжении всего 6-летнего срока.\n",
    "- У целевого признака нет высокой линейной зависимости ни с одним признаком.\n",
    "- Высокие линейные корреляции между месячным платежом и стриминговым телевидением: услуга заметно повышает цену.\n",
    "- 16% разорвали контракт,\n",
    "- 16% пенсионеры,\n",
    "- поровну распределение мужчин и женщин,\n",
    "- поровну в браке и нет,\n",
    "- дети - у 30%,\n",
    "- больше 40% получают услуги связи через оптоволокно,\n",
    "- треть пользуются дополнительными интернет услугами,\n",
    "- стриминговым телевидением и каталогом фильмов пользуются 40%,\n",
    "- у 40% есть подключение телефона к нескольким линиям,\n",
    "- больше 50% на ежемесячной оплате, по 20% - на одно- и двухлетней.\n",
    "- У трети электронный чек, остальные способы оплаты распределены равномерно."
   ]
  },
  {
   "cell_type": "markdown",
   "id": "05b83e4d-1923-40fc-a3cb-804efc26f500",
   "metadata": {},
   "source": [
    "## Подготовка данных "
   ]
  },
  {
   "cell_type": "code",
   "execution_count": 62,
   "id": "11464614-8c77-4169-a583-8666c3aa1c2f",
   "metadata": {},
   "outputs": [],
   "source": [
    "y=df.finish\n",
    "X=df.drop(columns='finish')"
   ]
  },
  {
   "cell_type": "code",
   "execution_count": 63,
   "id": "9cecce82-3ff9-4168-9b02-efd66b12df33",
   "metadata": {},
   "outputs": [],
   "source": [
    "X_train,X_test,y_train,y_test=train_test_split(X,y, stratify=y,random_state=RAND)"
   ]
  },
  {
   "cell_type": "code",
   "execution_count": 64,
   "id": "7ff7d7f8-a03e-4795-971c-694a5542cfb5",
   "metadata": {},
   "outputs": [
    {
     "name": "stdout",
     "output_type": "stream",
     "text": [
      "<class 'pandas.core.frame.DataFrame'>\n",
      "Index: 7039 entries, 7590-VHVEG to 3186-AJIEK\n",
      "Data columns (total 17 columns):\n",
      " #   Column           Non-Null Count  Dtype  \n",
      "---  ------           --------------  -----  \n",
      " 0   payed_years      7039 non-null   object \n",
      " 1   e_billing        7039 non-null   bool   \n",
      " 2   payment_method   7039 non-null   object \n",
      " 3   month_charges    7039 non-null   float64\n",
      " 4   total_charges    7039 non-null   float64\n",
      " 5   days             7039 non-null   int32  \n",
      " 6   senior           7039 non-null   bool   \n",
      " 7   male             7039 non-null   bool   \n",
      " 8   has_partner      7039 non-null   bool   \n",
      " 9   has_dependents   7039 non-null   bool   \n",
      " 10  online_security  7039 non-null   bool   \n",
      " 11  cloud            7039 non-null   bool   \n",
      " 12  antivirus        7039 non-null   bool   \n",
      " 13  support          7039 non-null   bool   \n",
      " 14  TV               7039 non-null   bool   \n",
      " 15  movies           7039 non-null   bool   \n",
      " 16  multy            7039 non-null   bool   \n",
      "dtypes: bool(12), float64(2), int32(1), object(2)\n",
      "memory usage: 643.0+ KB\n"
     ]
    }
   ],
   "source": [
    "X.info()"
   ]
  },
  {
   "cell_type": "code",
   "execution_count": 65,
   "id": "28cf493f-955c-4650-a1c7-744074acb5ff",
   "metadata": {},
   "outputs": [
    {
     "data": {
      "text/plain": [
       "['month_charges', 'total_charges', 'days']"
      ]
     },
     "execution_count": 65,
     "metadata": {},
     "output_type": "execute_result"
    }
   ],
   "source": [
    "num"
   ]
  },
  {
   "cell_type": "markdown",
   "id": "97832d39-27b3-4c8d-b988-2e1d01972cbc",
   "metadata": {},
   "source": [
    "Используемая метрика roc-auc не чувствительна к дисбалансу классов. Достаточно библиотеки sklearn."
   ]
  },
  {
   "cell_type": "markdown",
   "id": "347672bd-0916-4c09-a9cb-ee53abc130b5",
   "metadata": {},
   "source": [
    "<div class=\"alert alert-block alert-info\">\n",
    "\n",
    "Я буду использовать модели бустинга. Они не требуют масштабирования. Кодирование Ordinal Encoder."
   ]
  },
  {
   "cell_type": "markdown",
   "id": "23b6a4ce-d1d8-4a0e-a5aa-4e085c781c86",
   "metadata": {},
   "source": [
    "<div class=\"alert alert-block alert-info\">\n",
    "\n",
    "`month_charges`, `total_charges`, `days` - непрерывные признаки.\\\n",
    "`payment_method` - категориальный.\\\n",
    "`payed_years` - ранговый.\n",
    "Остальные - бинарные логические не нуждаются в кодировании."
   ]
  },
  {
   "cell_type": "code",
   "execution_count": 66,
   "id": "49012035-e564-4017-bb32-12ea52b9fd36",
   "metadata": {},
   "outputs": [],
   "source": [
    "col_prepair=ColumnTransformer(\n",
    "    [('cat', OrdinalEncoder(),['payment_method']),\n",
    "    ('rang',OrdinalEncoder(categories=[rang]),['payed_years'])],\n",
    "    remainder='passthrough')"
   ]
  },
  {
   "cell_type": "markdown",
   "id": "8b3e2ace-6ef7-4e52-b66d-a4dc29003775",
   "metadata": {},
   "source": [
    "## Обучение моделей "
   ]
  },
  {
   "cell_type": "code",
   "execution_count": 67,
   "id": "7af84c12-f2ae-458b-b5c1-c1b2c6633c9f",
   "metadata": {},
   "outputs": [],
   "source": [
    "pipe=Pipeline([\n",
    "    ('prepair',col_prepair),\n",
    "    ('model',GradientBoostingClassifier(random_state=RAND))\n",
    "])"
   ]
  },
  {
   "cell_type": "code",
   "execution_count": 68,
   "id": "15c13a6e-1c52-4bd8-98eb-8686a0ab771a",
   "metadata": {},
   "outputs": [],
   "source": [
    "params=[{'model': [GradientBoostingClassifier(random_state=RAND)],\n",
    "        'model__max_depth': [None] + [i for i in range(2, 10)],\n",
    "        'model__learning_rate':uniform(0.1, 0.9),\n",
    "        'model__min_samples_leaf': range(1, 10),\n",
    "        'model__min_samples_split': range(2, 10),\n",
    "        'model__max_leaf_nodes':range(10,300),\n",
    "        'model__n_estimators': range(100, 800)\n",
    "        },\n",
    "        {'model':[LGBMClassifier(random_state=RAND,n_jobs=-1)],\n",
    "        'model__learning_rate':uniform(0.1, 0.9),\n",
    "        'model__max_depth': range(2,10),\n",
    "        'model__reg_alpha': uniform(0,3),\n",
    "        'model__num_leaves':range(10,300),\n",
    "        'model__n_estimators': range(100, 800)\n",
    "        }]"
   ]
  },
  {
   "cell_type": "code",
   "execution_count": 69,
   "id": "2528e777-bd62-4249-bd75-caf4c2bf5d17",
   "metadata": {
    "scrolled": true
   },
   "outputs": [],
   "source": [
    "cols=['mean_test_score','std_test_score','mean_fit_time','mean_score_time','params']\n",
    "table=pd.DataFrame(columns=cols)"
   ]
  },
  {
   "cell_type": "code",
   "execution_count": 70,
   "id": "fdfae9e8-5ecf-4f32-8038-0336cfbe52e3",
   "metadata": {},
   "outputs": [],
   "source": [
    "def search(i):\n",
    "    search=RandomizedSearchCV(pipe,params[i], scoring='roc_auc',n_jobs=-1,random_state=RAND,n_iter=30,error_score='raise',verbose=2)\n",
    "    search.fit(X_train,y_train)    \n",
    "    best=pd.DataFrame(search.cv_results_)[cols].sort_values('mean_test_score',ascending=False,ignore_index=True)[:3]\n",
    "    return search, best"
   ]
  },
  {
   "cell_type": "code",
   "execution_count": 71,
   "id": "e56dd409-42da-4b13-9ae7-679b9df72e24",
   "metadata": {
    "scrolled": true
   },
   "outputs": [
    {
     "name": "stdout",
     "output_type": "stream",
     "text": [
      "Fitting 5 folds for each of 30 candidates, totalling 150 fits\n",
      "Fitting 5 folds for each of 30 candidates, totalling 150 fits\n",
      "[LightGBM] [Info] Number of positive: 826, number of negative: 4453\n",
      "[LightGBM] [Info] Auto-choosing row-wise multi-threading, the overhead of testing was 0.001430 seconds.\n",
      "You can set `force_row_wise=true` to remove the overhead.\n",
      "And if memory is not enough, you can set `force_col_wise=true`.\n",
      "[LightGBM] [Info] Total Bins 722\n",
      "[LightGBM] [Info] Number of data points in the train set: 5279, number of used features: 17\n",
      "[LightGBM] [Info] [binary:BoostFromScore]: pavg=0.156469 -> initscore=-1.684739\n",
      "[LightGBM] [Info] Start training from score -1.684739\n",
      "[LightGBM] [Warning] No further splits with positive gain, best gain: -inf\n",
      "[LightGBM] [Warning] No further splits with positive gain, best gain: -inf\n",
      "[LightGBM] [Warning] No further splits with positive gain, best gain: -inf\n",
      "[LightGBM] [Warning] No further splits with positive gain, best gain: -inf\n",
      "[LightGBM] [Warning] No further splits with positive gain, best gain: -inf\n",
      "[LightGBM] [Warning] No further splits with positive gain, best gain: -inf\n",
      "[LightGBM] [Warning] No further splits with positive gain, best gain: -inf\n",
      "[LightGBM] [Warning] No further splits with positive gain, best gain: -inf\n",
      "[LightGBM] [Warning] No further splits with positive gain, best gain: -inf\n",
      "[LightGBM] [Warning] No further splits with positive gain, best gain: -inf\n",
      "[LightGBM] [Warning] No further splits with positive gain, best gain: -inf\n",
      "[LightGBM] [Warning] No further splits with positive gain, best gain: -inf\n",
      "[LightGBM] [Warning] No further splits with positive gain, best gain: -inf\n",
      "[LightGBM] [Warning] No further splits with positive gain, best gain: -inf\n",
      "[LightGBM] [Warning] No further splits with positive gain, best gain: -inf\n",
      "[LightGBM] [Warning] No further splits with positive gain, best gain: -inf\n",
      "[LightGBM] [Warning] No further splits with positive gain, best gain: -inf\n",
      "[LightGBM] [Warning] No further splits with positive gain, best gain: -inf\n",
      "[LightGBM] [Warning] No further splits with positive gain, best gain: -inf\n",
      "[LightGBM] [Warning] No further splits with positive gain, best gain: -inf\n",
      "[LightGBM] [Warning] No further splits with positive gain, best gain: -inf\n",
      "[LightGBM] [Warning] No further splits with positive gain, best gain: -inf\n",
      "[LightGBM] [Warning] No further splits with positive gain, best gain: -inf\n",
      "[LightGBM] [Warning] No further splits with positive gain, best gain: -inf\n",
      "[LightGBM] [Warning] No further splits with positive gain, best gain: -inf\n",
      "[LightGBM] [Warning] No further splits with positive gain, best gain: -inf\n",
      "[LightGBM] [Warning] No further splits with positive gain, best gain: -inf\n",
      "[LightGBM] [Warning] No further splits with positive gain, best gain: -inf\n",
      "[LightGBM] [Warning] No further splits with positive gain, best gain: -inf\n",
      "[LightGBM] [Warning] No further splits with positive gain, best gain: -inf\n",
      "[LightGBM] [Warning] No further splits with positive gain, best gain: -inf\n",
      "[LightGBM] [Warning] No further splits with positive gain, best gain: -inf\n",
      "[LightGBM] [Warning] No further splits with positive gain, best gain: -inf\n",
      "[LightGBM] [Warning] No further splits with positive gain, best gain: -inf\n",
      "[LightGBM] [Warning] No further splits with positive gain, best gain: -inf\n",
      "[LightGBM] [Warning] No further splits with positive gain, best gain: -inf\n",
      "[LightGBM] [Warning] No further splits with positive gain, best gain: -inf\n",
      "[LightGBM] [Warning] No further splits with positive gain, best gain: -inf\n",
      "[LightGBM] [Warning] No further splits with positive gain, best gain: -inf\n",
      "[LightGBM] [Warning] No further splits with positive gain, best gain: -inf\n",
      "[LightGBM] [Warning] No further splits with positive gain, best gain: -inf\n",
      "[LightGBM] [Warning] No further splits with positive gain, best gain: -inf\n",
      "[LightGBM] [Warning] No further splits with positive gain, best gain: -inf\n",
      "[LightGBM] [Warning] No further splits with positive gain, best gain: -inf\n",
      "[LightGBM] [Warning] No further splits with positive gain, best gain: -inf\n",
      "[LightGBM] [Warning] No further splits with positive gain, best gain: -inf\n",
      "[LightGBM] [Warning] No further splits with positive gain, best gain: -inf\n",
      "[LightGBM] [Warning] No further splits with positive gain, best gain: -inf\n",
      "[LightGBM] [Warning] No further splits with positive gain, best gain: -inf\n",
      "[LightGBM] [Warning] No further splits with positive gain, best gain: -inf\n",
      "[LightGBM] [Warning] No further splits with positive gain, best gain: -inf\n",
      "[LightGBM] [Warning] No further splits with positive gain, best gain: -inf\n",
      "[LightGBM] [Warning] No further splits with positive gain, best gain: -inf\n",
      "[LightGBM] [Warning] No further splits with positive gain, best gain: -inf\n",
      "[LightGBM] [Warning] No further splits with positive gain, best gain: -inf\n",
      "[LightGBM] [Warning] No further splits with positive gain, best gain: -inf\n",
      "[LightGBM] [Warning] No further splits with positive gain, best gain: -inf\n",
      "[LightGBM] [Warning] No further splits with positive gain, best gain: -inf\n",
      "[LightGBM] [Warning] No further splits with positive gain, best gain: -inf\n",
      "[LightGBM] [Warning] No further splits with positive gain, best gain: -inf\n",
      "[LightGBM] [Warning] No further splits with positive gain, best gain: -inf\n",
      "[LightGBM] [Warning] No further splits with positive gain, best gain: -inf\n",
      "[LightGBM] [Warning] No further splits with positive gain, best gain: -inf\n",
      "[LightGBM] [Warning] No further splits with positive gain, best gain: -inf\n",
      "[LightGBM] [Warning] No further splits with positive gain, best gain: -inf\n",
      "[LightGBM] [Warning] No further splits with positive gain, best gain: -inf\n",
      "[LightGBM] [Warning] No further splits with positive gain, best gain: -inf\n",
      "[LightGBM] [Warning] No further splits with positive gain, best gain: -inf\n",
      "[LightGBM] [Warning] No further splits with positive gain, best gain: -inf\n",
      "[LightGBM] [Warning] No further splits with positive gain, best gain: -inf\n",
      "[LightGBM] [Warning] No further splits with positive gain, best gain: -inf\n",
      "[LightGBM] [Warning] No further splits with positive gain, best gain: -inf\n",
      "[LightGBM] [Warning] No further splits with positive gain, best gain: -inf\n",
      "[LightGBM] [Warning] No further splits with positive gain, best gain: -inf\n",
      "[LightGBM] [Warning] No further splits with positive gain, best gain: -inf\n",
      "[LightGBM] [Warning] No further splits with positive gain, best gain: -inf\n",
      "[LightGBM] [Warning] No further splits with positive gain, best gain: -inf\n",
      "[LightGBM] [Warning] No further splits with positive gain, best gain: -inf\n",
      "[LightGBM] [Warning] No further splits with positive gain, best gain: -inf\n",
      "[LightGBM] [Warning] No further splits with positive gain, best gain: -inf\n",
      "[LightGBM] [Warning] No further splits with positive gain, best gain: -inf\n",
      "[LightGBM] [Warning] No further splits with positive gain, best gain: -inf\n",
      "[LightGBM] [Warning] No further splits with positive gain, best gain: -inf\n",
      "[LightGBM] [Warning] No further splits with positive gain, best gain: -inf\n",
      "[LightGBM] [Warning] No further splits with positive gain, best gain: -inf\n",
      "[LightGBM] [Warning] No further splits with positive gain, best gain: -inf\n",
      "[LightGBM] [Warning] No further splits with positive gain, best gain: -inf\n",
      "[LightGBM] [Warning] No further splits with positive gain, best gain: -inf\n",
      "[LightGBM] [Warning] No further splits with positive gain, best gain: -inf\n",
      "[LightGBM] [Warning] No further splits with positive gain, best gain: -inf\n",
      "[LightGBM] [Warning] No further splits with positive gain, best gain: -inf\n",
      "[LightGBM] [Warning] No further splits with positive gain, best gain: -inf\n",
      "[LightGBM] [Warning] No further splits with positive gain, best gain: -inf\n",
      "[LightGBM] [Warning] No further splits with positive gain, best gain: -inf\n",
      "[LightGBM] [Warning] No further splits with positive gain, best gain: -inf\n",
      "[LightGBM] [Warning] No further splits with positive gain, best gain: -inf\n",
      "[LightGBM] [Warning] No further splits with positive gain, best gain: -inf\n",
      "[LightGBM] [Warning] No further splits with positive gain, best gain: -inf\n",
      "[LightGBM] [Warning] No further splits with positive gain, best gain: -inf\n",
      "[LightGBM] [Warning] No further splits with positive gain, best gain: -inf\n",
      "[LightGBM] [Warning] No further splits with positive gain, best gain: -inf\n",
      "[LightGBM] [Warning] No further splits with positive gain, best gain: -inf\n",
      "[LightGBM] [Warning] No further splits with positive gain, best gain: -inf\n",
      "[LightGBM] [Warning] No further splits with positive gain, best gain: -inf\n",
      "[LightGBM] [Warning] No further splits with positive gain, best gain: -inf\n",
      "[LightGBM] [Warning] No further splits with positive gain, best gain: -inf\n",
      "[LightGBM] [Warning] No further splits with positive gain, best gain: -inf\n",
      "[LightGBM] [Warning] No further splits with positive gain, best gain: -inf\n",
      "[LightGBM] [Warning] No further splits with positive gain, best gain: -inf\n",
      "[LightGBM] [Warning] No further splits with positive gain, best gain: -inf\n",
      "[LightGBM] [Warning] No further splits with positive gain, best gain: -inf\n",
      "[LightGBM] [Warning] No further splits with positive gain, best gain: -inf\n",
      "[LightGBM] [Warning] No further splits with positive gain, best gain: -inf\n",
      "[LightGBM] [Warning] No further splits with positive gain, best gain: -inf\n",
      "[LightGBM] [Warning] No further splits with positive gain, best gain: -inf\n",
      "[LightGBM] [Warning] No further splits with positive gain, best gain: -inf\n",
      "[LightGBM] [Warning] No further splits with positive gain, best gain: -inf\n",
      "[LightGBM] [Warning] No further splits with positive gain, best gain: -inf\n",
      "[LightGBM] [Warning] No further splits with positive gain, best gain: -inf\n",
      "[LightGBM] [Warning] No further splits with positive gain, best gain: -inf\n",
      "[LightGBM] [Warning] No further splits with positive gain, best gain: -inf\n",
      "[LightGBM] [Warning] No further splits with positive gain, best gain: -inf\n",
      "[LightGBM] [Warning] No further splits with positive gain, best gain: -inf\n",
      "[LightGBM] [Warning] No further splits with positive gain, best gain: -inf\n",
      "[LightGBM] [Warning] No further splits with positive gain, best gain: -inf\n",
      "[LightGBM] [Warning] No further splits with positive gain, best gain: -inf\n",
      "[LightGBM] [Warning] No further splits with positive gain, best gain: -inf\n",
      "[LightGBM] [Warning] No further splits with positive gain, best gain: -inf\n",
      "[LightGBM] [Warning] No further splits with positive gain, best gain: -inf\n",
      "[LightGBM] [Warning] No further splits with positive gain, best gain: -inf\n",
      "[LightGBM] [Warning] No further splits with positive gain, best gain: -inf\n",
      "[LightGBM] [Warning] No further splits with positive gain, best gain: -inf\n",
      "[LightGBM] [Warning] No further splits with positive gain, best gain: -inf\n",
      "[LightGBM] [Warning] No further splits with positive gain, best gain: -inf\n",
      "[LightGBM] [Warning] No further splits with positive gain, best gain: -inf\n",
      "[LightGBM] [Warning] No further splits with positive gain, best gain: -inf\n",
      "[LightGBM] [Warning] No further splits with positive gain, best gain: -inf\n",
      "[LightGBM] [Warning] No further splits with positive gain, best gain: -inf\n",
      "[LightGBM] [Warning] No further splits with positive gain, best gain: -inf\n",
      "[LightGBM] [Warning] No further splits with positive gain, best gain: -inf\n",
      "[LightGBM] [Warning] No further splits with positive gain, best gain: -inf\n",
      "[LightGBM] [Warning] No further splits with positive gain, best gain: -inf\n",
      "[LightGBM] [Warning] No further splits with positive gain, best gain: -inf\n",
      "[LightGBM] [Warning] No further splits with positive gain, best gain: -inf\n",
      "[LightGBM] [Warning] No further splits with positive gain, best gain: -inf\n",
      "[LightGBM] [Warning] No further splits with positive gain, best gain: -inf\n",
      "[LightGBM] [Warning] No further splits with positive gain, best gain: -inf\n",
      "[LightGBM] [Warning] No further splits with positive gain, best gain: -inf\n",
      "[LightGBM] [Warning] No further splits with positive gain, best gain: -inf\n",
      "[LightGBM] [Warning] No further splits with positive gain, best gain: -inf\n",
      "[LightGBM] [Warning] No further splits with positive gain, best gain: -inf\n",
      "[LightGBM] [Warning] No further splits with positive gain, best gain: -inf\n",
      "[LightGBM] [Warning] No further splits with positive gain, best gain: -inf\n",
      "[LightGBM] [Warning] No further splits with positive gain, best gain: -inf\n",
      "[LightGBM] [Warning] No further splits with positive gain, best gain: -inf\n",
      "[LightGBM] [Warning] No further splits with positive gain, best gain: -inf\n",
      "[LightGBM] [Warning] No further splits with positive gain, best gain: -inf\n",
      "[LightGBM] [Warning] No further splits with positive gain, best gain: -inf\n",
      "[LightGBM] [Warning] No further splits with positive gain, best gain: -inf\n",
      "[LightGBM] [Warning] No further splits with positive gain, best gain: -inf\n",
      "[LightGBM] [Warning] No further splits with positive gain, best gain: -inf\n",
      "[LightGBM] [Warning] No further splits with positive gain, best gain: -inf\n",
      "[LightGBM] [Warning] No further splits with positive gain, best gain: -inf\n",
      "[LightGBM] [Warning] No further splits with positive gain, best gain: -inf\n",
      "[LightGBM] [Warning] No further splits with positive gain, best gain: -inf\n",
      "[LightGBM] [Warning] No further splits with positive gain, best gain: -inf\n",
      "[LightGBM] [Warning] No further splits with positive gain, best gain: -inf\n",
      "[LightGBM] [Warning] No further splits with positive gain, best gain: -inf\n",
      "[LightGBM] [Warning] No further splits with positive gain, best gain: -inf\n",
      "[LightGBM] [Warning] No further splits with positive gain, best gain: -inf\n",
      "[LightGBM] [Warning] No further splits with positive gain, best gain: -inf\n",
      "[LightGBM] [Warning] No further splits with positive gain, best gain: -inf\n",
      "[LightGBM] [Warning] No further splits with positive gain, best gain: -inf\n",
      "[LightGBM] [Warning] No further splits with positive gain, best gain: -inf\n",
      "[LightGBM] [Warning] No further splits with positive gain, best gain: -inf\n",
      "[LightGBM] [Warning] No further splits with positive gain, best gain: -inf\n",
      "[LightGBM] [Warning] No further splits with positive gain, best gain: -inf\n",
      "[LightGBM] [Warning] No further splits with positive gain, best gain: -inf\n",
      "[LightGBM] [Warning] No further splits with positive gain, best gain: -inf\n",
      "[LightGBM] [Warning] No further splits with positive gain, best gain: -inf\n",
      "[LightGBM] [Warning] No further splits with positive gain, best gain: -inf\n",
      "[LightGBM] [Warning] No further splits with positive gain, best gain: -inf\n",
      "[LightGBM] [Warning] No further splits with positive gain, best gain: -inf\n",
      "[LightGBM] [Warning] No further splits with positive gain, best gain: -inf\n",
      "[LightGBM] [Warning] No further splits with positive gain, best gain: -inf\n",
      "[LightGBM] [Warning] No further splits with positive gain, best gain: -inf\n",
      "[LightGBM] [Warning] No further splits with positive gain, best gain: -inf\n",
      "[LightGBM] [Warning] No further splits with positive gain, best gain: -inf\n",
      "[LightGBM] [Warning] No further splits with positive gain, best gain: -inf\n",
      "[LightGBM] [Warning] No further splits with positive gain, best gain: -inf\n",
      "[LightGBM] [Warning] No further splits with positive gain, best gain: -inf\n",
      "[LightGBM] [Warning] No further splits with positive gain, best gain: -inf\n",
      "[LightGBM] [Warning] No further splits with positive gain, best gain: -inf\n",
      "[LightGBM] [Warning] No further splits with positive gain, best gain: -inf\n",
      "[LightGBM] [Warning] No further splits with positive gain, best gain: -inf\n",
      "[LightGBM] [Warning] No further splits with positive gain, best gain: -inf\n",
      "[LightGBM] [Warning] No further splits with positive gain, best gain: -inf\n",
      "[LightGBM] [Warning] No further splits with positive gain, best gain: -inf\n",
      "[LightGBM] [Warning] No further splits with positive gain, best gain: -inf\n",
      "[LightGBM] [Warning] No further splits with positive gain, best gain: -inf\n",
      "[LightGBM] [Warning] No further splits with positive gain, best gain: -inf\n",
      "[LightGBM] [Warning] No further splits with positive gain, best gain: -inf\n",
      "[LightGBM] [Warning] No further splits with positive gain, best gain: -inf\n",
      "[LightGBM] [Warning] No further splits with positive gain, best gain: -inf\n",
      "[LightGBM] [Warning] No further splits with positive gain, best gain: -inf\n",
      "[LightGBM] [Warning] No further splits with positive gain, best gain: -inf\n",
      "[LightGBM] [Warning] No further splits with positive gain, best gain: -inf\n",
      "[LightGBM] [Warning] No further splits with positive gain, best gain: -inf\n",
      "[LightGBM] [Warning] No further splits with positive gain, best gain: -inf\n",
      "[LightGBM] [Warning] No further splits with positive gain, best gain: -inf\n",
      "[LightGBM] [Warning] No further splits with positive gain, best gain: -inf\n",
      "[LightGBM] [Warning] No further splits with positive gain, best gain: -inf\n",
      "[LightGBM] [Warning] No further splits with positive gain, best gain: -inf\n",
      "[LightGBM] [Warning] No further splits with positive gain, best gain: -inf\n",
      "[LightGBM] [Warning] No further splits with positive gain, best gain: -inf\n",
      "[LightGBM] [Warning] No further splits with positive gain, best gain: -inf\n",
      "[LightGBM] [Warning] No further splits with positive gain, best gain: -inf\n",
      "[LightGBM] [Warning] No further splits with positive gain, best gain: -inf\n",
      "[LightGBM] [Warning] No further splits with positive gain, best gain: -inf\n",
      "[LightGBM] [Warning] No further splits with positive gain, best gain: -inf\n",
      "[LightGBM] [Warning] No further splits with positive gain, best gain: -inf\n",
      "[LightGBM] [Warning] No further splits with positive gain, best gain: -inf\n",
      "[LightGBM] [Warning] No further splits with positive gain, best gain: -inf\n",
      "[LightGBM] [Warning] No further splits with positive gain, best gain: -inf\n",
      "[LightGBM] [Warning] No further splits with positive gain, best gain: -inf\n",
      "[LightGBM] [Warning] No further splits with positive gain, best gain: -inf\n",
      "[LightGBM] [Warning] No further splits with positive gain, best gain: -inf\n",
      "[LightGBM] [Warning] No further splits with positive gain, best gain: -inf\n",
      "[LightGBM] [Warning] No further splits with positive gain, best gain: -inf\n",
      "[LightGBM] [Warning] No further splits with positive gain, best gain: -inf\n",
      "[LightGBM] [Warning] No further splits with positive gain, best gain: -inf\n",
      "[LightGBM] [Warning] No further splits with positive gain, best gain: -inf\n",
      "[LightGBM] [Warning] No further splits with positive gain, best gain: -inf\n",
      "[LightGBM] [Warning] No further splits with positive gain, best gain: -inf\n",
      "[LightGBM] [Warning] No further splits with positive gain, best gain: -inf\n",
      "[LightGBM] [Warning] No further splits with positive gain, best gain: -inf\n",
      "[LightGBM] [Warning] No further splits with positive gain, best gain: -inf\n",
      "[LightGBM] [Warning] No further splits with positive gain, best gain: -inf\n",
      "[LightGBM] [Warning] No further splits with positive gain, best gain: -inf\n",
      "[LightGBM] [Warning] No further splits with positive gain, best gain: -inf\n",
      "[LightGBM] [Warning] No further splits with positive gain, best gain: -inf\n",
      "[LightGBM] [Warning] No further splits with positive gain, best gain: -inf\n",
      "[LightGBM] [Warning] No further splits with positive gain, best gain: -inf\n",
      "[LightGBM] [Warning] No further splits with positive gain, best gain: -inf\n",
      "[LightGBM] [Warning] No further splits with positive gain, best gain: -inf\n",
      "[LightGBM] [Warning] No further splits with positive gain, best gain: -inf\n",
      "[LightGBM] [Warning] No further splits with positive gain, best gain: -inf\n",
      "[LightGBM] [Warning] No further splits with positive gain, best gain: -inf\n",
      "[LightGBM] [Warning] No further splits with positive gain, best gain: -inf\n",
      "[LightGBM] [Warning] No further splits with positive gain, best gain: -inf\n",
      "[LightGBM] [Warning] No further splits with positive gain, best gain: -inf\n",
      "[LightGBM] [Warning] No further splits with positive gain, best gain: -inf\n",
      "[LightGBM] [Warning] No further splits with positive gain, best gain: -inf\n",
      "[LightGBM] [Warning] No further splits with positive gain, best gain: -inf\n",
      "[LightGBM] [Warning] No further splits with positive gain, best gain: -inf\n",
      "[LightGBM] [Warning] No further splits with positive gain, best gain: -inf\n",
      "[LightGBM] [Warning] No further splits with positive gain, best gain: -inf\n",
      "[LightGBM] [Warning] No further splits with positive gain, best gain: -inf\n",
      "[LightGBM] [Warning] No further splits with positive gain, best gain: -inf\n",
      "[LightGBM] [Warning] No further splits with positive gain, best gain: -inf\n",
      "[LightGBM] [Warning] No further splits with positive gain, best gain: -inf\n",
      "[LightGBM] [Warning] No further splits with positive gain, best gain: -inf\n",
      "[LightGBM] [Warning] No further splits with positive gain, best gain: -inf\n",
      "[LightGBM] [Warning] No further splits with positive gain, best gain: -inf\n",
      "[LightGBM] [Warning] No further splits with positive gain, best gain: -inf\n",
      "[LightGBM] [Warning] No further splits with positive gain, best gain: -inf\n",
      "[LightGBM] [Warning] No further splits with positive gain, best gain: -inf\n",
      "[LightGBM] [Warning] No further splits with positive gain, best gain: -inf\n",
      "[LightGBM] [Warning] No further splits with positive gain, best gain: -inf\n",
      "[LightGBM] [Warning] No further splits with positive gain, best gain: -inf\n",
      "[LightGBM] [Warning] No further splits with positive gain, best gain: -inf\n",
      "[LightGBM] [Warning] No further splits with positive gain, best gain: -inf\n",
      "[LightGBM] [Warning] No further splits with positive gain, best gain: -inf\n",
      "[LightGBM] [Warning] No further splits with positive gain, best gain: -inf\n",
      "[LightGBM] [Warning] No further splits with positive gain, best gain: -inf\n",
      "[LightGBM] [Warning] No further splits with positive gain, best gain: -inf\n",
      "[LightGBM] [Warning] No further splits with positive gain, best gain: -inf\n",
      "[LightGBM] [Warning] No further splits with positive gain, best gain: -inf\n",
      "[LightGBM] [Warning] No further splits with positive gain, best gain: -inf\n",
      "[LightGBM] [Warning] No further splits with positive gain, best gain: -inf\n",
      "[LightGBM] [Warning] No further splits with positive gain, best gain: -inf\n",
      "[LightGBM] [Warning] No further splits with positive gain, best gain: -inf\n",
      "[LightGBM] [Warning] No further splits with positive gain, best gain: -inf\n",
      "[LightGBM] [Warning] No further splits with positive gain, best gain: -inf\n",
      "[LightGBM] [Warning] No further splits with positive gain, best gain: -inf\n",
      "[LightGBM] [Warning] No further splits with positive gain, best gain: -inf\n",
      "[LightGBM] [Warning] No further splits with positive gain, best gain: -inf\n",
      "[LightGBM] [Warning] No further splits with positive gain, best gain: -inf\n",
      "[LightGBM] [Warning] No further splits with positive gain, best gain: -inf\n",
      "[LightGBM] [Warning] No further splits with positive gain, best gain: -inf\n",
      "[LightGBM] [Warning] No further splits with positive gain, best gain: -inf\n",
      "[LightGBM] [Warning] No further splits with positive gain, best gain: -inf\n",
      "[LightGBM] [Warning] No further splits with positive gain, best gain: -inf\n",
      "[LightGBM] [Warning] No further splits with positive gain, best gain: -inf\n",
      "[LightGBM] [Warning] No further splits with positive gain, best gain: -inf\n",
      "[LightGBM] [Warning] No further splits with positive gain, best gain: -inf\n",
      "[LightGBM] [Warning] No further splits with positive gain, best gain: -inf\n",
      "[LightGBM] [Warning] No further splits with positive gain, best gain: -inf\n",
      "[LightGBM] [Warning] No further splits with positive gain, best gain: -inf\n",
      "[LightGBM] [Warning] No further splits with positive gain, best gain: -inf\n",
      "[LightGBM] [Warning] No further splits with positive gain, best gain: -inf\n",
      "[LightGBM] [Warning] No further splits with positive gain, best gain: -inf\n",
      "[LightGBM] [Warning] No further splits with positive gain, best gain: -inf\n",
      "[LightGBM] [Warning] No further splits with positive gain, best gain: -inf\n",
      "[LightGBM] [Warning] No further splits with positive gain, best gain: -inf\n",
      "[LightGBM] [Warning] No further splits with positive gain, best gain: -inf\n",
      "[LightGBM] [Warning] No further splits with positive gain, best gain: -inf\n",
      "[LightGBM] [Warning] No further splits with positive gain, best gain: -inf\n",
      "[LightGBM] [Warning] No further splits with positive gain, best gain: -inf\n",
      "[LightGBM] [Warning] No further splits with positive gain, best gain: -inf\n",
      "[LightGBM] [Warning] No further splits with positive gain, best gain: -inf\n",
      "[LightGBM] [Warning] No further splits with positive gain, best gain: -inf\n",
      "[LightGBM] [Warning] No further splits with positive gain, best gain: -inf\n",
      "[LightGBM] [Warning] No further splits with positive gain, best gain: -inf\n",
      "[LightGBM] [Warning] No further splits with positive gain, best gain: -inf\n",
      "[LightGBM] [Warning] No further splits with positive gain, best gain: -inf\n",
      "[LightGBM] [Warning] No further splits with positive gain, best gain: -inf\n",
      "[LightGBM] [Warning] No further splits with positive gain, best gain: -inf\n",
      "[LightGBM] [Warning] No further splits with positive gain, best gain: -inf\n",
      "[LightGBM] [Warning] No further splits with positive gain, best gain: -inf\n",
      "[LightGBM] [Warning] No further splits with positive gain, best gain: -inf\n",
      "[LightGBM] [Warning] No further splits with positive gain, best gain: -inf\n",
      "[LightGBM] [Warning] No further splits with positive gain, best gain: -inf\n",
      "[LightGBM] [Warning] No further splits with positive gain, best gain: -inf\n",
      "[LightGBM] [Warning] No further splits with positive gain, best gain: -inf\n",
      "[LightGBM] [Warning] No further splits with positive gain, best gain: -inf\n",
      "[LightGBM] [Warning] No further splits with positive gain, best gain: -inf\n",
      "[LightGBM] [Warning] No further splits with positive gain, best gain: -inf\n",
      "[LightGBM] [Warning] No further splits with positive gain, best gain: -inf\n",
      "[LightGBM] [Warning] No further splits with positive gain, best gain: -inf\n",
      "[LightGBM] [Warning] No further splits with positive gain, best gain: -inf\n",
      "[LightGBM] [Warning] No further splits with positive gain, best gain: -inf\n",
      "[LightGBM] [Warning] No further splits with positive gain, best gain: -inf\n",
      "[LightGBM] [Warning] No further splits with positive gain, best gain: -inf\n",
      "[LightGBM] [Warning] No further splits with positive gain, best gain: -inf\n",
      "[LightGBM] [Warning] No further splits with positive gain, best gain: -inf\n",
      "[LightGBM] [Warning] No further splits with positive gain, best gain: -inf\n",
      "[LightGBM] [Warning] No further splits with positive gain, best gain: -inf\n",
      "[LightGBM] [Warning] No further splits with positive gain, best gain: -inf\n",
      "[LightGBM] [Warning] No further splits with positive gain, best gain: -inf\n",
      "[LightGBM] [Warning] No further splits with positive gain, best gain: -inf\n",
      "[LightGBM] [Warning] No further splits with positive gain, best gain: -inf\n",
      "[LightGBM] [Warning] No further splits with positive gain, best gain: -inf\n",
      "[LightGBM] [Warning] No further splits with positive gain, best gain: -inf\n",
      "[LightGBM] [Warning] No further splits with positive gain, best gain: -inf\n",
      "[LightGBM] [Warning] No further splits with positive gain, best gain: -inf\n",
      "[LightGBM] [Warning] No further splits with positive gain, best gain: -inf\n",
      "[LightGBM] [Warning] No further splits with positive gain, best gain: -inf\n",
      "[LightGBM] [Warning] No further splits with positive gain, best gain: -inf\n",
      "[LightGBM] [Warning] No further splits with positive gain, best gain: -inf\n",
      "[LightGBM] [Warning] No further splits with positive gain, best gain: -inf\n",
      "[LightGBM] [Warning] No further splits with positive gain, best gain: -inf\n",
      "[LightGBM] [Warning] No further splits with positive gain, best gain: -inf\n",
      "[LightGBM] [Warning] No further splits with positive gain, best gain: -inf\n",
      "[LightGBM] [Warning] No further splits with positive gain, best gain: -inf\n",
      "[LightGBM] [Warning] No further splits with positive gain, best gain: -inf\n",
      "[LightGBM] [Warning] No further splits with positive gain, best gain: -inf\n",
      "[LightGBM] [Warning] No further splits with positive gain, best gain: -inf\n",
      "[LightGBM] [Warning] No further splits with positive gain, best gain: -inf\n",
      "[LightGBM] [Warning] No further splits with positive gain, best gain: -inf\n",
      "[LightGBM] [Warning] No further splits with positive gain, best gain: -inf\n",
      "[LightGBM] [Warning] No further splits with positive gain, best gain: -inf\n",
      "[LightGBM] [Warning] No further splits with positive gain, best gain: -inf\n",
      "[LightGBM] [Warning] No further splits with positive gain, best gain: -inf\n",
      "[LightGBM] [Warning] No further splits with positive gain, best gain: -inf\n",
      "[LightGBM] [Warning] No further splits with positive gain, best gain: -inf\n",
      "[LightGBM] [Warning] No further splits with positive gain, best gain: -inf\n",
      "[LightGBM] [Warning] No further splits with positive gain, best gain: -inf\n",
      "[LightGBM] [Warning] No further splits with positive gain, best gain: -inf\n",
      "[LightGBM] [Warning] No further splits with positive gain, best gain: -inf\n",
      "[LightGBM] [Warning] No further splits with positive gain, best gain: -inf\n",
      "[LightGBM] [Warning] No further splits with positive gain, best gain: -inf\n",
      "[LightGBM] [Warning] No further splits with positive gain, best gain: -inf\n",
      "[LightGBM] [Warning] No further splits with positive gain, best gain: -inf\n",
      "[LightGBM] [Warning] No further splits with positive gain, best gain: -inf\n",
      "[LightGBM] [Warning] No further splits with positive gain, best gain: -inf\n",
      "[LightGBM] [Warning] No further splits with positive gain, best gain: -inf\n",
      "[LightGBM] [Warning] No further splits with positive gain, best gain: -inf\n",
      "[LightGBM] [Warning] No further splits with positive gain, best gain: -inf\n",
      "[LightGBM] [Warning] No further splits with positive gain, best gain: -inf\n",
      "[LightGBM] [Warning] No further splits with positive gain, best gain: -inf\n",
      "[LightGBM] [Warning] No further splits with positive gain, best gain: -inf\n",
      "[LightGBM] [Warning] No further splits with positive gain, best gain: -inf\n",
      "[LightGBM] [Warning] No further splits with positive gain, best gain: -inf\n",
      "[LightGBM] [Warning] No further splits with positive gain, best gain: -inf\n",
      "[LightGBM] [Warning] No further splits with positive gain, best gain: -inf\n",
      "[LightGBM] [Warning] No further splits with positive gain, best gain: -inf\n",
      "[LightGBM] [Warning] No further splits with positive gain, best gain: -inf\n",
      "[LightGBM] [Warning] No further splits with positive gain, best gain: -inf\n",
      "[LightGBM] [Warning] No further splits with positive gain, best gain: -inf\n",
      "[LightGBM] [Warning] No further splits with positive gain, best gain: -inf\n",
      "[LightGBM] [Warning] No further splits with positive gain, best gain: -inf\n",
      "[LightGBM] [Warning] No further splits with positive gain, best gain: -inf\n",
      "[LightGBM] [Warning] No further splits with positive gain, best gain: -inf\n",
      "[LightGBM] [Warning] No further splits with positive gain, best gain: -inf\n",
      "[LightGBM] [Warning] No further splits with positive gain, best gain: -inf\n",
      "[LightGBM] [Warning] No further splits with positive gain, best gain: -inf\n",
      "[LightGBM] [Warning] No further splits with positive gain, best gain: -inf\n",
      "[LightGBM] [Warning] No further splits with positive gain, best gain: -inf\n",
      "[LightGBM] [Warning] No further splits with positive gain, best gain: -inf\n",
      "[LightGBM] [Warning] No further splits with positive gain, best gain: -inf\n",
      "[LightGBM] [Warning] No further splits with positive gain, best gain: -inf\n",
      "[LightGBM] [Warning] No further splits with positive gain, best gain: -inf\n",
      "[LightGBM] [Warning] No further splits with positive gain, best gain: -inf\n",
      "[LightGBM] [Warning] No further splits with positive gain, best gain: -inf\n",
      "[LightGBM] [Warning] No further splits with positive gain, best gain: -inf\n",
      "[LightGBM] [Warning] No further splits with positive gain, best gain: -inf\n",
      "[LightGBM] [Warning] No further splits with positive gain, best gain: -inf\n",
      "[LightGBM] [Warning] No further splits with positive gain, best gain: -inf\n",
      "[LightGBM] [Warning] No further splits with positive gain, best gain: -inf\n",
      "[LightGBM] [Warning] No further splits with positive gain, best gain: -inf\n",
      "[LightGBM] [Warning] No further splits with positive gain, best gain: -inf\n",
      "[LightGBM] [Warning] No further splits with positive gain, best gain: -inf\n",
      "[LightGBM] [Warning] No further splits with positive gain, best gain: -inf\n",
      "[LightGBM] [Warning] No further splits with positive gain, best gain: -inf\n",
      "[LightGBM] [Warning] No further splits with positive gain, best gain: -inf\n",
      "[LightGBM] [Warning] No further splits with positive gain, best gain: -inf\n",
      "[LightGBM] [Warning] No further splits with positive gain, best gain: -inf\n",
      "[LightGBM] [Warning] No further splits with positive gain, best gain: -inf\n",
      "[LightGBM] [Warning] No further splits with positive gain, best gain: -inf\n",
      "[LightGBM] [Warning] No further splits with positive gain, best gain: -inf\n",
      "[LightGBM] [Warning] No further splits with positive gain, best gain: -inf\n",
      "[LightGBM] [Warning] No further splits with positive gain, best gain: -inf\n",
      "[LightGBM] [Warning] No further splits with positive gain, best gain: -inf\n",
      "[LightGBM] [Warning] No further splits with positive gain, best gain: -inf\n",
      "[LightGBM] [Warning] No further splits with positive gain, best gain: -inf\n",
      "[LightGBM] [Warning] No further splits with positive gain, best gain: -inf\n",
      "[LightGBM] [Warning] No further splits with positive gain, best gain: -inf\n",
      "[LightGBM] [Warning] No further splits with positive gain, best gain: -inf\n",
      "[LightGBM] [Warning] No further splits with positive gain, best gain: -inf\n",
      "[LightGBM] [Warning] No further splits with positive gain, best gain: -inf\n",
      "[LightGBM] [Warning] No further splits with positive gain, best gain: -inf\n",
      "[LightGBM] [Warning] No further splits with positive gain, best gain: -inf\n",
      "[LightGBM] [Warning] No further splits with positive gain, best gain: -inf\n",
      "[LightGBM] [Warning] No further splits with positive gain, best gain: -inf\n",
      "[LightGBM] [Warning] No further splits with positive gain, best gain: -inf\n",
      "[LightGBM] [Warning] No further splits with positive gain, best gain: -inf\n",
      "[LightGBM] [Warning] No further splits with positive gain, best gain: -inf\n",
      "[LightGBM] [Warning] No further splits with positive gain, best gain: -inf\n",
      "[LightGBM] [Warning] No further splits with positive gain, best gain: -inf\n",
      "[LightGBM] [Warning] No further splits with positive gain, best gain: -inf\n",
      "[LightGBM] [Warning] No further splits with positive gain, best gain: -inf\n",
      "[LightGBM] [Warning] No further splits with positive gain, best gain: -inf\n",
      "[LightGBM] [Warning] No further splits with positive gain, best gain: -inf\n",
      "[LightGBM] [Warning] No further splits with positive gain, best gain: -inf\n",
      "[LightGBM] [Warning] No further splits with positive gain, best gain: -inf\n",
      "[LightGBM] [Warning] No further splits with positive gain, best gain: -inf\n",
      "[LightGBM] [Warning] No further splits with positive gain, best gain: -inf\n",
      "[LightGBM] [Warning] No further splits with positive gain, best gain: -inf\n",
      "[LightGBM] [Warning] No further splits with positive gain, best gain: -inf\n",
      "[LightGBM] [Warning] No further splits with positive gain, best gain: -inf\n",
      "[LightGBM] [Warning] No further splits with positive gain, best gain: -inf\n",
      "[LightGBM] [Warning] No further splits with positive gain, best gain: -inf\n",
      "[LightGBM] [Warning] No further splits with positive gain, best gain: -inf\n",
      "[LightGBM] [Warning] No further splits with positive gain, best gain: -inf\n",
      "[LightGBM] [Warning] No further splits with positive gain, best gain: -inf\n",
      "[LightGBM] [Warning] No further splits with positive gain, best gain: -inf\n",
      "[LightGBM] [Warning] No further splits with positive gain, best gain: -inf\n",
      "[LightGBM] [Warning] No further splits with positive gain, best gain: -inf\n",
      "[LightGBM] [Warning] No further splits with positive gain, best gain: -inf\n",
      "[LightGBM] [Warning] No further splits with positive gain, best gain: -inf\n",
      "[LightGBM] [Warning] No further splits with positive gain, best gain: -inf\n",
      "[LightGBM] [Warning] No further splits with positive gain, best gain: -inf\n",
      "[LightGBM] [Warning] No further splits with positive gain, best gain: -inf\n",
      "[LightGBM] [Warning] No further splits with positive gain, best gain: -inf\n",
      "[LightGBM] [Warning] No further splits with positive gain, best gain: -inf\n",
      "[LightGBM] [Warning] No further splits with positive gain, best gain: -inf\n",
      "[LightGBM] [Warning] No further splits with positive gain, best gain: -inf\n",
      "[LightGBM] [Warning] No further splits with positive gain, best gain: -inf\n",
      "[LightGBM] [Warning] No further splits with positive gain, best gain: -inf\n",
      "[LightGBM] [Warning] No further splits with positive gain, best gain: -inf\n",
      "[LightGBM] [Warning] No further splits with positive gain, best gain: -inf\n",
      "[LightGBM] [Warning] No further splits with positive gain, best gain: -inf\n",
      "[LightGBM] [Warning] No further splits with positive gain, best gain: -inf\n",
      "[LightGBM] [Warning] No further splits with positive gain, best gain: -inf\n",
      "[LightGBM] [Warning] No further splits with positive gain, best gain: -inf\n",
      "[LightGBM] [Warning] No further splits with positive gain, best gain: -inf\n",
      "[LightGBM] [Warning] No further splits with positive gain, best gain: -inf\n",
      "[LightGBM] [Warning] No further splits with positive gain, best gain: -inf\n",
      "[LightGBM] [Warning] No further splits with positive gain, best gain: -inf\n",
      "[LightGBM] [Warning] No further splits with positive gain, best gain: -inf\n",
      "[LightGBM] [Warning] No further splits with positive gain, best gain: -inf\n",
      "[LightGBM] [Warning] No further splits with positive gain, best gain: -inf\n",
      "[LightGBM] [Warning] No further splits with positive gain, best gain: -inf\n",
      "[LightGBM] [Warning] No further splits with positive gain, best gain: -inf\n",
      "[LightGBM] [Warning] No further splits with positive gain, best gain: -inf\n",
      "[LightGBM] [Warning] No further splits with positive gain, best gain: -inf\n",
      "[LightGBM] [Warning] No further splits with positive gain, best gain: -inf\n",
      "[LightGBM] [Warning] No further splits with positive gain, best gain: -inf\n",
      "[LightGBM] [Warning] No further splits with positive gain, best gain: -inf\n",
      "[LightGBM] [Warning] No further splits with positive gain, best gain: -inf\n",
      "[LightGBM] [Warning] No further splits with positive gain, best gain: -inf\n",
      "[LightGBM] [Warning] No further splits with positive gain, best gain: -inf\n",
      "[LightGBM] [Warning] No further splits with positive gain, best gain: -inf\n"
     ]
    }
   ],
   "source": [
    "search0, table0=search(0)\n",
    "search1, table1=search(1)"
   ]
  },
  {
   "cell_type": "code",
   "execution_count": 72,
   "id": "e3c0fed2-30ff-4d80-81a1-89ef7539f68f",
   "metadata": {
    "scrolled": true
   },
   "outputs": [],
   "source": [
    "table=pd.concat([table,table0,table1],ignore_index=True)\n",
    "table=table.sort_values('mean_test_score',ascending=False,ignore_index=True)"
   ]
  },
  {
   "cell_type": "code",
   "execution_count": 73,
   "id": "dbe622e3-de94-44ff-a6f8-a01825fb7965",
   "metadata": {},
   "outputs": [
    {
     "data": {
      "text/html": [
       "<div>\n",
       "<style scoped>\n",
       "    .dataframe tbody tr th:only-of-type {\n",
       "        vertical-align: middle;\n",
       "    }\n",
       "\n",
       "    .dataframe tbody tr th {\n",
       "        vertical-align: top;\n",
       "    }\n",
       "\n",
       "    .dataframe thead th {\n",
       "        text-align: right;\n",
       "    }\n",
       "</style>\n",
       "<table border=\"1\" class=\"dataframe\">\n",
       "  <thead>\n",
       "    <tr style=\"text-align: right;\">\n",
       "      <th></th>\n",
       "      <th>mean_test_score</th>\n",
       "      <th>std_test_score</th>\n",
       "      <th>mean_fit_time</th>\n",
       "      <th>mean_score_time</th>\n",
       "      <th>params</th>\n",
       "    </tr>\n",
       "  </thead>\n",
       "  <tbody>\n",
       "    <tr>\n",
       "      <th>0</th>\n",
       "      <td>0.909115</td>\n",
       "      <td>0.011443</td>\n",
       "      <td>5.540540</td>\n",
       "      <td>0.031469</td>\n",
       "      <td>{'model': GradientBoostingClassifier(random_st...</td>\n",
       "    </tr>\n",
       "    <tr>\n",
       "      <th>1</th>\n",
       "      <td>0.905824</td>\n",
       "      <td>0.009141</td>\n",
       "      <td>5.023845</td>\n",
       "      <td>0.030138</td>\n",
       "      <td>{'model': GradientBoostingClassifier(random_st...</td>\n",
       "    </tr>\n",
       "    <tr>\n",
       "      <th>2</th>\n",
       "      <td>0.902902</td>\n",
       "      <td>0.009538</td>\n",
       "      <td>3.995964</td>\n",
       "      <td>0.031540</td>\n",
       "      <td>{'model': GradientBoostingClassifier(random_st...</td>\n",
       "    </tr>\n",
       "  </tbody>\n",
       "</table>\n",
       "</div>"
      ],
      "text/plain": [
       "   mean_test_score  std_test_score  mean_fit_time  mean_score_time  \\\n",
       "0         0.909115        0.011443       5.540540         0.031469   \n",
       "1         0.905824        0.009141       5.023845         0.030138   \n",
       "2         0.902902        0.009538       3.995964         0.031540   \n",
       "\n",
       "                                              params  \n",
       "0  {'model': GradientBoostingClassifier(random_st...  \n",
       "1  {'model': GradientBoostingClassifier(random_st...  \n",
       "2  {'model': GradientBoostingClassifier(random_st...  "
      ]
     },
     "execution_count": 73,
     "metadata": {},
     "output_type": "execute_result"
    }
   ],
   "source": [
    "table[:3]"
   ]
  },
  {
   "cell_type": "code",
   "execution_count": 74,
   "id": "3544de94-f754-440a-b0dd-04c3483a145d",
   "metadata": {},
   "outputs": [],
   "source": [
    "sound()"
   ]
  },
  {
   "cell_type": "markdown",
   "id": "0e971405-73df-49a9-96ba-38f6770adac0",
   "metadata": {},
   "source": [
    "Возьмём лучшую модель, её оценка лучше остальных."
   ]
  },
  {
   "cell_type": "code",
   "execution_count": 75,
   "id": "dc145d7d-3ecf-4e57-aaa4-cdefa225b49c",
   "metadata": {},
   "outputs": [
    {
     "name": "stdout",
     "output_type": "stream",
     "text": [
      "Параметры лучшей модели {'model': GradientBoostingClassifier(random_state=50824), 'model__learning_rate': 0.3962414012282678, 'model__max_depth': 4, 'model__max_leaf_nodes': 109, 'model__min_samples_leaf': 1, 'model__min_samples_split': 4, 'model__n_estimators': 263}\n"
     ]
    }
   ],
   "source": [
    "print(\"Параметры лучшей модели\", search0.best_params_)"
   ]
  },
  {
   "cell_type": "code",
   "execution_count": 76,
   "id": "4a3f795e-d807-4f74-94c9-accb891fd35a",
   "metadata": {},
   "outputs": [],
   "source": [
    "search=search0"
   ]
  },
  {
   "cell_type": "markdown",
   "id": "8ff0dc03-abca-4968-b2fe-ea8a741ca3ad",
   "metadata": {},
   "source": [
    "## Проверка модели"
   ]
  },
  {
   "cell_type": "code",
   "execution_count": 77,
   "id": "1b5570f4-278f-40a1-9be9-30df94e0f660",
   "metadata": {},
   "outputs": [],
   "source": [
    "predict=search.predict(X_test)"
   ]
  },
  {
   "cell_type": "code",
   "execution_count": 78,
   "id": "b7132923-28a7-467a-821a-525afeb112b4",
   "metadata": {},
   "outputs": [
    {
     "name": "stdout",
     "output_type": "stream",
     "text": [
      "roc-auc: 0.905\n",
      "accuracy: 0.92\n",
      "recall: 0.59\n"
     ]
    }
   ],
   "source": [
    "print('roc-auc:',round(roc_auc_score(y_test,search.predict_proba(X_test)[:,1]),3))\n",
    "print('accuracy:', round(accuracy_score(y_test,predict),2))\n",
    "print('recall:', round(recall_score(y_test,predict),2))"
   ]
  },
  {
   "cell_type": "code",
   "execution_count": 79,
   "id": "8fc73910-4bcc-406f-9d55-184ebe94b2f7",
   "metadata": {},
   "outputs": [
    {
     "name": "stdout",
     "output_type": "stream",
     "text": [
      "Оценка roc_auc на случайных величинах: 0.5\n"
     ]
    }
   ],
   "source": [
    "print(\"Оценка roc_auc на случайных величинах:\",\n",
    "      roc_auc_score(y_test,DummyClassifier(strategy='stratified',random_state=RAND).fit(X_train,y_train).predict_proba(X_test)[:,1]).round(2))"
   ]
  },
  {
   "cell_type": "markdown",
   "id": "8a99caf0-54af-45c9-8525-ce589202168f",
   "metadata": {},
   "source": [
    "Хорошие метрики, но маловата важная для цели исследования метрика recall. Посмотрю, стоит ли менять порог классификации."
   ]
  },
  {
   "cell_type": "code",
   "execution_count": 80,
   "id": "2b4d0a2d-80ab-441e-928f-1e64e17c0f8e",
   "metadata": {},
   "outputs": [],
   "source": [
    "probs=search.predict_proba(X_test)[:,1]\n",
    "accuracies=[]\n",
    "for i in np.linspace(0.1,0.9):\n",
    "    accuracies.append(accuracy_score(y_test,np.where(probs>i,1,0)))\n",
    "recalls=[]\n",
    "for i in np.linspace(0.1,0.9):\n",
    "    recalls.append(recall_score(y_test,np.where(probs>i,1,0)))"
   ]
  },
  {
   "cell_type": "code",
   "execution_count": 81,
   "id": "465fea27-081f-4b5d-a51c-b39b3af7273f",
   "metadata": {},
   "outputs": [
    {
     "data": {
      "image/png": "[encoded data removed]",
      "text/plain": [
       "<Figure size 1728x360 with 2 Axes>"
      ]
     },
     "metadata": {
      "needs_background": "light"
     },
     "output_type": "display_data"
    }
   ],
   "source": [
    "fig=plt.figure(figsize=(24,5))\n",
    "fig.add_subplot(1,2,1)\n",
    "plt.plot(np.linspace(0.1,0.9),accuracies)\n",
    "plt.title('Зависимость accuracy от порога')\n",
    "plt.xlabel('порог вероятности')\n",
    "plt.ylabel('recall')\n",
    "plt.grid()\n",
    "fig.add_subplot(1,2,2)\n",
    "plt.plot(np.linspace(0.1,0.9),recalls)\n",
    "plt.title('Зависимость recall от порога')\n",
    "plt.xlabel('порог вероятности')\n",
    "plt.ylabel('recall')\n",
    "plt.grid();"
   ]
  },
  {
   "cell_type": "markdown",
   "id": "f5caea11-ce73-4775-afbf-6a6188a30c94",
   "metadata": {},
   "source": [
    "Максимальная accuracy на 0.4. Рекомендуемый порог для классификации до 0.4.\n",
    "Recall при 0.4:"
   ]
  },
  {
   "cell_type": "code",
   "execution_count": 82,
   "id": "12804cd3-6675-4627-951d-4b122fc7d53f",
   "metadata": {},
   "outputs": [
    {
     "data": {
      "text/plain": [
       "0.6472727272727272"
      ]
     },
     "execution_count": 82,
     "metadata": {},
     "output_type": "execute_result"
    }
   ],
   "source": [
    "best=np.where(probs>0.4,1,0)\n",
    "recall_score(y_test,best)"
   ]
  },
  {
   "cell_type": "markdown",
   "id": "c11bb19f-27a5-4751-9b4e-10bc37fd65c4",
   "metadata": {},
   "source": [
    "Зафиксируем порог на 0.4"
   ]
  },
  {
   "cell_type": "code",
   "execution_count": 83,
   "id": "55a38fa3-60b5-474d-8606-9616d40456cd",
   "metadata": {},
   "outputs": [
    {
     "data": {
      "image/png": "[encoded data removed]",
      "text/plain": [
       "<Figure size 360x216 with 2 Axes>"
      ]
     },
     "metadata": {
      "needs_background": "light"
     },
     "output_type": "display_data"
    }
   ],
   "source": [
    "plt.figure(figsize=(5,3))\n",
    "sb.heatmap(confusion_matrix(y_test,best)/len(y_test)*100,annot=True,cmap='Pastel2',linewidths=1,fmt='.0f')\n",
    "plt.title('Матрица ошибок, %')\n",
    "plt.xlabel('Предсказания')\n",
    "plt.ylabel('Реальные значения')\n",
    "plt.rc('font', size=10);"
   ]
  },
  {
   "cell_type": "markdown",
   "id": "76fa34bb-5b45-4093-948b-4359878b5114",
   "metadata": {},
   "source": [
    "<div class=\"alert alert-block alert-info\">\n",
    "\n",
    "6% значений, являющихся рисками, не найдено и 3% значений оказался ложноположительными предсказаниями. Точность превалирует над охватом. Хотя охват для данной проблемы важнее. Рекомендуется снижать порог классификации."
   ]
  },
  {
   "cell_type": "markdown",
   "id": "caf5183f-3f4f-4eab-bb6d-a2a13a4f2fd2",
   "metadata": {},
   "source": [
    "## Общий вывод и рекомендации заказчику "
   ]
  },
  {
   "cell_type": "markdown",
   "id": "8b30dbde-a0f2-4c2b-902e-02795651393a",
   "metadata": {},
   "source": [
    "Библиотеки загружены и обновлены до необходимых версий . Дополнительно были установлены shap, phik, lightgbm.\\\n",
    "Данные загружены и проведена их первичная обработка. Затем четыре таблицы сведены в единую базу.\\\n",
    "**Результаты подготовительной части:**"
   ]
  },
  {
   "cell_type": "markdown",
   "id": "f8f33eba-efc1-4d75-ab19-c9319a7d1806",
   "metadata": {},
   "source": [
    "<div class=\"alert alert-info\">\n",
    "\n",
    "- Нам даны четыре небольшие базы размерами до 10 тыс. записей и с количеством признаков до 8.\n",
    "- Дубликаты и пропуски в базах отсутствуют.\n",
    "- Повторов id в базах нет. \n",
    "Количество контрактов равно количеству записей в персональных данных.\n",
    "- Предоставленных услуг телефонии больше, чем интернета.\n",
    "- Договоры заключались с октября 2013 по февраль 2020. Расторгались с июня 2014 по январь 2020. Даты округлены до первых чисел месяцев.\n",
    "- Все даты окончания договоров - до даты выгрузки. Есть либо законченные контракты, либо длящиеся. На основе признака окончания договора получен целевой бинарный признак расторжения контракта.\n",
    "- Присутствует дисбаланс классов: 84% продолжают оставаться клинтами компании.\n",
    "- Добавлен дополнительный признак: прошедшее количество дней договора. Удален признак даты заключения договора.\n",
    "- Все договоры с пропусками в общих платежах заключены в день выгрузки. Вероятно, платежи ещё не поступили. Пропуски заменены нулём.\n",
    "- 80% пользователей предоставлялись услуги интернета и 90% - телефонии. Значит, 70% - обе услуги.\n",
    "- Таблицы сведены в единую базу. Пропуски заполнены отсутствием услуги."
   ]
  },
  {
   "cell_type": "markdown",
   "id": "ecb41ad8-e8dc-46ee-b260-9e268adb0950",
   "metadata": {},
   "source": [
    "Затем проведено исследование данных на распределение значений и присутствие выбросов.\\\n",
    "**Результаты исследования данных:**"
   ]
  },
  {
   "cell_type": "markdown",
   "id": "b67722c1-c290-4a61-8c0a-8e68422084b7",
   "metadata": {},
   "source": [
    "<div class=\"alert alert-block alert-info\">\n",
    "    \n",
    "- Есть 3% выбросов в общих тратах абонента: значения больше 7500, вписаны в нормальное распределение. Данные сохранены.\n",
    "- Месячные платежи - от 18 до 120. Распределены бимодальны. Плата за телефон значительно меньше, чем за интернет, и плата за DSL меньше, чем за оптику.\n",
    "- Уберу мультиколлинеарные признаки для уменьшения числа признаков: из признаков типа подключения и месячного платежа, оставлен второй - у него больше корреляция с целевым признаком и он информативней.\n",
    "- Общие расходы абонента распределены нормально с пиком на 500.\n",
    "- Бимодальности на 4-месячных договорах и контрактах почти на протяжении всего 6-летнего срока.\n",
    "- У целевого признака нет высокой линейной зависимости ни с одним признаком.\n",
    "- Высокие линейные корреляции между месячным платежом и стриминговым телевидением: услуга заметно повышает цену.\n",
    "- 16% разорвали контракт,\n",
    "- 16% пенсионеры,\n",
    "- поровну распределение мужчин и женщин,\n",
    "- поровну в браке и нет,\n",
    "- дети - у 30%,\n",
    "- больше 40% получают услуги связи через оптоволокно,\n",
    "- треть пользуются дополнительными интернет услугами,\n",
    "- стриминговым телевидением и каталогом фильмов пользуются 40%,\n",
    "- у 40% есть подключение телефона к нескольким линиям,\n",
    "- больше 50% на ежемесячной оплате, по 20% - на одно- и двухлетней.\n",
    "- У трети электронный чек, остальные способы оплаты распределены равномерно."
   ]
  },
  {
   "cell_type": "markdown",
   "id": "bc5d26c0-aaac-4389-85af-4d4d7b63c71e",
   "metadata": {},
   "source": [
    "Рассмотрены две модели древесного градиентного бустинга из библиотек sklearn и lightgbm.\\\n",
    "Сделано кодирование небинарных категориальных значений инструментом OrdinalEncoder, бинарные - переведены в логический тип.\\\n",
    "Выборки разделены в соотношении 3:1 на тренировочную и тестовую с сохранением соотношения значений целевого признака."
   ]
  },
  {
   "cell_type": "code",
   "execution_count": 84,
   "id": "5743d6b8-0142-4062-a4c1-e28c9604a167",
   "metadata": {},
   "outputs": [
    {
     "name": "stdout",
     "output_type": "stream",
     "text": [
      "Непрерывные признаки: ['month_charges', 'total_charges', 'days']\n"
     ]
    }
   ],
   "source": [
    "print('Непрерывные признаки:', num)"
   ]
  },
  {
   "cell_type": "markdown",
   "id": "1753ce57-b4a3-41e5-9945-03e8019dbe41",
   "metadata": {},
   "source": [
    "Модели и гиперпараметры подбирались методом рандомной кроссвалидации, по 30 итераций на каждую модель. Изменялись размер шага, максимальная глубина, максимальное количество узлов, минимальное количество образцов в листе, минимальное количество образцов для разделения узла, количество деревьев, максимальное количество листьев, коэффициент лассо-регуляризации.\\\n",
    "Получена лучшая модель:"
   ]
  },
  {
   "cell_type": "code",
   "execution_count": 85,
   "id": "60e4bf3a-77f1-4d5d-8d96-ee0328d9515f",
   "metadata": {},
   "outputs": [
    {
     "data": {
      "text/plain": [
       "{'model': GradientBoostingClassifier(random_state=50824),\n",
       " 'model__learning_rate': 0.3962414012282678,\n",
       " 'model__max_depth': 4,\n",
       " 'model__max_leaf_nodes': 109,\n",
       " 'model__min_samples_leaf': 1,\n",
       " 'model__min_samples_split': 4,\n",
       " 'model__n_estimators': 263}"
      ]
     },
     "execution_count": 85,
     "metadata": {},
     "output_type": "execute_result"
    }
   ],
   "source": [
    "search.best_params_"
   ]
  },
  {
   "cell_type": "markdown",
   "id": "99bc953c-7b08-48d5-bfeb-2dd023f70533",
   "metadata": {},
   "source": [
    "<div class=\"alert alert-block alert-info\">\n",
    "\n",
    "Классификатор GradientBoostingClassifier с повышенной скоростью обучения до 0.4, масимальная глубина увеличина до 4, максимальное количество узлов 109, минимальное количество образцов в листе 1, минимальное количество образцов для разделения узла увеличено до 4, количество деревьев увеличено до 263."
   ]
  },
  {
   "cell_type": "code",
   "execution_count": 86,
   "id": "91b9bc0c-d9d2-4231-aeae-24c39858e3cd",
   "metadata": {},
   "outputs": [
    {
     "name": "stdout",
     "output_type": "stream",
     "text": [
      "со следующими показателями:\n",
      " mean_test_score                                             0.909115\n",
      "std_test_score                                              0.011443\n",
      "mean_fit_time                                                5.54054\n",
      "mean_score_time                                             0.031469\n",
      "params             {'model': GradientBoostingClassifier(random_st...\n",
      "Name: 0, dtype: object\n"
     ]
    }
   ],
   "source": [
    "print('со следующими показателями:\\n', table.loc[0])"
   ]
  },
  {
   "cell_type": "code",
   "execution_count": 87,
   "id": "de818343-ec49-4329-9aaf-b0168e6eac12",
   "metadata": {},
   "outputs": [
    {
     "name": "stdout",
     "output_type": "stream",
     "text": [
      "Оценки на тесте:\n",
      "roc-auc: 0.905\n",
      "accuracy: 0.92\n",
      "recall: 0.59\n"
     ]
    }
   ],
   "source": [
    "print('Оценки на тесте:')\n",
    "print('roc-auc:',round(roc_auc_score(y_test,search.predict_proba(X_test)[:,1]),3))\n",
    "print('accuracy:', round(accuracy_score(y_test,predict),2))\n",
    "print('recall:', round(recall_score(y_test,predict),2))"
   ]
  },
  {
   "cell_type": "code",
   "execution_count": 88,
   "id": "0e8d164d-fe1b-4cd8-bcd5-bb85afd897cf",
   "metadata": {},
   "outputs": [
    {
     "name": "stdout",
     "output_type": "stream",
     "text": [
      "Это лучше случайного предсказания в 1.8 раз\n"
     ]
    }
   ],
   "source": [
    "print('Это лучше случайного предсказания в', round(0.905/0.5,1), 'раз')"
   ]
  },
  {
   "cell_type": "markdown",
   "id": "c9008f08-4359-46cb-a54e-7b8c6b71dd5a",
   "metadata": {},
   "source": [
    "<div class=\"alert alert-block alert-info\">\n",
    "\n",
    "Максимальную эффективность модель показывает при пороге классификации 0.4. Поиск оптимального соотношения точности и охвата нужно искать при пороговых значениях до 0.4."
   ]
  },
  {
   "cell_type": "code",
   "execution_count": 89,
   "id": "93e8e6b3-9ad1-4e14-83e7-a0cd5b9f2d51",
   "metadata": {},
   "outputs": [
    {
     "data": {
      "image/png": "[encoded data removed]",
      "text/plain": [
       "<Figure size 432x288 with 1 Axes>"
      ]
     },
     "metadata": {
      "needs_background": "light"
     },
     "output_type": "display_data"
    }
   ],
   "source": [
    "plt.plot(np.linspace(0.1,0.9),recalls)\n",
    "plt.title('Зависимость recall от порога')\n",
    "plt.xlabel('порог вероятности')\n",
    "plt.ylabel('recall')\n",
    "plt.grid()\n",
    "plt.xlim(0.1,0.5)\n",
    "plt.ylim(0.5,1);"
   ]
  },
  {
   "cell_type": "markdown",
   "id": "0ee79b5e-1266-4396-94e2-6ee5d3ea458a",
   "metadata": {},
   "source": [
    "<div class=\"alert alert-block alert-info\">\n",
    "\n",
    "При пороговом значении 0.4 6% значений, являющихся рисками, не найдено и 1% значений оказался ложноположительными предсказаниями. Точность превалирует над охватом. Хотя охват для данной проблемы важнее."
   ]
  },
  {
   "cell_type": "code",
   "execution_count": 90,
   "id": "c19c4e76-aedf-4772-8bb5-2e6d311e8aca",
   "metadata": {},
   "outputs": [
    {
     "data": {
      "image/png": "[encoded data removed]",
      "text/plain": [
       "<Figure size 1440x720 with 1 Axes>"
      ]
     },
     "metadata": {
      "needs_background": "light"
     },
     "output_type": "display_data"
    }
   ],
   "source": [
    "importance=pd.DataFrame([X.columns,search.best_estimator_['model'].feature_importances_]).T\n",
    "importance.columns=['feature','weight']\n",
    "importance=importance.sort_values('weight',ignore_index=True)\n",
    "importance.plot(x='feature',kind='barh',figsize=(20,10),title='Степень влияния признаков');"
   ]
  },
  {
   "cell_type": "markdown",
   "id": "75a65820-4e53-4d96-9b86-19f89c288170",
   "metadata": {},
   "source": [
    "<div class=\"alert alert-block alert-info\">\n",
    "\n",
    "customerID: направлен в индексы.\\\n",
    "BeginDate (begin), InternetService(service): удалён.\\\n",
    "EndDate (finish): целевой признак - No -> 0, дата -> 1.\\\n",
    "PaymentMethod: кодирован OrdinalEncoder.\\\n",
    "Type (payed_years): закодирован в порядке - month-to-month, one year, two year.\\\n",
    "PaperlessBilling (e_billing),gender (male),\tSeniorCitizen (senior), Partner\t(has_partner), Dependents (has_dependents), MultipleLines (multy), OnlineSecurity,\tOnlineBackup (cloud),\tDeviceProtection (antivirus), TechSupport (support), StreamingTV (TV),\tStreamingMovies (movies) - в логический.\\\n",
    "TotalCharges -  пропуски заполнены 0 (оплаты ещё не поступали).\\\n",
    "InternetService (service) - отсутсвие в No.\\\n",
    "Добавлен признак days вычитанием дат: из даты окончания или выгрузки при её отсутствии - даты заключения, и переводом в целочисленный тип."
   ]
  },
  {
   "cell_type": "code",
   "execution_count": 91,
   "id": "030b8414-af08-47a7-8faf-f17119dd81c8",
   "metadata": {},
   "outputs": [
    {
     "data": {
      "image/png": "[encoded data removed]",
      "text/plain": [
       "<Figure size 1728x360 with 4 Axes>"
      ]
     },
     "metadata": {
      "needs_background": "light"
     },
     "output_type": "display_data"
    }
   ],
   "source": [
    "fig=plt.figure(figsize=(24,5))\n",
    "plt.title('Распределение ключевых параметров по завершённости договоров\\n\\n')\n",
    "for i in range(3):\n",
    "    ax=fig.add_subplot(1,3,i+1)\n",
    "    df.query('not finish')[num[i]].plot(kind='kde',ax=ax, title=num[i],label='остаются')\n",
    "    df.query('finish')[num[i]].plot(kind='kde',ax=ax,label='расторгнуты')\n",
    "    plt.legend(loc='best')\n",
    "    plt.ylabel('плотность вероятности')\n",
    "    plt.grid()\n",
    "    plt.xlim(0,df[num[i]].max())\n",
    "plt.show();"
   ]
  },
  {
   "cell_type": "code",
   "execution_count": 92,
   "id": "cc874917-8130-42b2-b4c1-46392a556927",
   "metadata": {
    "jupyter": {
     "source_hidden": true
    }
   },
   "outputs": [
    {
     "data": {
      "image/png": "[encoded data removed]",
      "text/plain": [
       "<Figure size 1728x360 with 3 Axes>"
      ]
     },
     "metadata": {
      "needs_background": "light"
     },
     "output_type": "display_data"
    }
   ],
   "source": [
    "fig=plt.figure(figsize=(24,5))\n",
    "plt.suptitle('% расторгнутых договоров по ключевым параметрам')\n",
    "cat=['e_billing','has_partner']\n",
    "for i in range(2):\n",
    "    ax=fig.add_subplot(1,3,i+1)\n",
    "    left=[]\n",
    "    col=cat[i]\n",
    "    s=df[df[col]]['finish']\n",
    "    left.append(int(s.value_counts(normalize=True)[1].round(2)*100))\n",
    "    s=df[~df[col]]['finish']\n",
    "    left.append(int(s.value_counts(normalize=True)[1].round(2)*100))\n",
    "    plt.bar(['True','False'],left)\n",
    "    plt.grid()\n",
    "    plt.ylabel('%')\n",
    "    plt.title(col)\n",
    "    plt.axhline(y=16, color='r', linestyle='-') \n",
    "    plt.text(x=0.7, y=16 + 0.5, s='Среднее значение', color='r', fontsize=14, ha='right')\n",
    "ax=fig.add_subplot(1,3,3)\n",
    "left=[]\n",
    "names=df['payed_years'].unique().tolist()\n",
    "for n in names:\n",
    "    s=df[df['payed_years']==n]['finish']\n",
    "    left.append(int(s.value_counts(normalize=True)[1].round(2)*100))\n",
    "plt.bar(names,left)\n",
    "plt.grid()\n",
    "plt.ylabel('%')\n",
    "plt.title('Период оплаты')\n",
    "plt.axhline(y=16, color='r', linestyle='-') \n",
    "plt.text(x=0.7, y=16 + 0.5, s='Среднее значение', color='r', fontsize=14, ha='right')\n",
    "plt.show();"
   ]
  },
  {
   "cell_type": "markdown",
   "id": "e2b2d790-53d5-4dbe-92b3-b4590a7cc9ae",
   "metadata": {},
   "source": [
    "### Рекомендации"
   ]
  },
  {
   "cell_type": "markdown",
   "id": "00cbb9ca-55f8-47cc-a470-875287cbffac",
   "metadata": {},
   "source": [
    "<div class=\"alert alert-block alert-info\">\n",
    "\n",
    "В группе риска абоненты:\n",
    "- с договорами длительностью 400-1700 дней (1-4.5 года)\n",
    "- общими тратами 1-5 тыс.\n",
    "- месячным платежом больше 80\n",
    "- с наличием элетронного расчётного листа\n",
    "- с периодами оплаты 1-2 года\n",
    "- состоящие в браке."
   ]
  },
  {
   "cell_type": "markdown",
   "id": "c9ba91bc-4d61-4bd4-ae80-870bc523e032",
   "metadata": {},
   "source": [
    "<div class=\"alert alert-block alert-info\">\n",
    "\n",
    "Для этих категорий абонентов рекомендуема бонусная программа.\\\n",
    "Стоит сдерживать рост тарифов, проверить работу сервиса электронного чека, уменьшить возможность оплат длительными периодами.\\\n",
    "Разработать предложения для семейных пар."
   ]
  }
 ],
 "metadata": {
  "ExecuteTimeLog": [
   {
    "duration": 15662,
    "start_time": "2024-08-14T15:33:13.314Z"
   },
   {
    "duration": 2,
    "start_time": "2024-08-14T15:33:35.783Z"
   },
   {
    "duration": 4,
    "start_time": "2024-08-14T15:33:37.549Z"
   },
   {
    "duration": 3,
    "start_time": "2024-08-14T15:33:41.856Z"
   },
   {
    "duration": 183,
    "start_time": "2024-08-14T15:33:42.997Z"
   }
  ],
  "kernelspec": {
   "display_name": "Python 3 (ipykernel)",
   "language": "python",
   "name": "python3"
  },
  "language_info": {
   "codemirror_mode": {
    "name": "ipython",
    "version": 3
   },
   "file_extension": ".py",
   "mimetype": "text/x-python",
   "name": "python",
   "nbconvert_exporter": "python",
   "pygments_lexer": "ipython3",
   "version": "3.9.19"
  },
  "toc": {
   "base_numbering": 1,
   "nav_menu": {},
   "number_sections": true,
   "sideBar": true,
   "skip_h1_title": true,
   "title_cell": "Table of Contents",
   "title_sidebar": "Contents",
   "toc_cell": false,
   "toc_position": {},
   "toc_section_display": true,
   "toc_window_display": false
  }
 },
 "nbformat": 4,
 "nbformat_minor": 5
}
